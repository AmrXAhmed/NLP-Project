{
  "nbformat": 4,
  "nbformat_minor": 0,
  "metadata": {
    "colab": {
      "provenance": [],
      "gpuType": "T4"
    },
    "kernelspec": {
      "name": "python3",
      "display_name": "Python 3"
    },
    "language_info": {
      "name": "python"
    },
    "accelerator": "GPU",
    "widgets": {
      "application/vnd.jupyter.widget-state+json": {
        "d9708d56227541cfbcd38be3a5688572": {
          "model_module": "@jupyter-widgets/controls",
          "model_name": "HBoxModel",
          "model_module_version": "1.5.0",
          "state": {
            "_dom_classes": [],
            "_model_module": "@jupyter-widgets/controls",
            "_model_module_version": "1.5.0",
            "_model_name": "HBoxModel",
            "_view_count": null,
            "_view_module": "@jupyter-widgets/controls",
            "_view_module_version": "1.5.0",
            "_view_name": "HBoxView",
            "box_style": "",
            "children": [
              "IPY_MODEL_80ba10094fa941d2a55f73427543b259",
              "IPY_MODEL_4fd69165e15d402fa4cd38ff36a147c1",
              "IPY_MODEL_1b6bde693ad64f87bec583cc51bcab27"
            ],
            "layout": "IPY_MODEL_a50408fac0b342b79ca6c1b1f9caef57"
          }
        },
        "80ba10094fa941d2a55f73427543b259": {
          "model_module": "@jupyter-widgets/controls",
          "model_name": "HTMLModel",
          "model_module_version": "1.5.0",
          "state": {
            "_dom_classes": [],
            "_model_module": "@jupyter-widgets/controls",
            "_model_module_version": "1.5.0",
            "_model_name": "HTMLModel",
            "_view_count": null,
            "_view_module": "@jupyter-widgets/controls",
            "_view_module_version": "1.5.0",
            "_view_name": "HTMLView",
            "description": "",
            "description_tooltip": null,
            "layout": "IPY_MODEL_b4cc59f8f26d49379143e8d5ba1a91b9",
            "placeholder": "​",
            "style": "IPY_MODEL_9fab540095b94d9bb8b1d9f0b23f3ed2",
            "value": "tokenizer_config.json: 100%"
          }
        },
        "4fd69165e15d402fa4cd38ff36a147c1": {
          "model_module": "@jupyter-widgets/controls",
          "model_name": "FloatProgressModel",
          "model_module_version": "1.5.0",
          "state": {
            "_dom_classes": [],
            "_model_module": "@jupyter-widgets/controls",
            "_model_module_version": "1.5.0",
            "_model_name": "FloatProgressModel",
            "_view_count": null,
            "_view_module": "@jupyter-widgets/controls",
            "_view_module_version": "1.5.0",
            "_view_name": "ProgressView",
            "bar_style": "success",
            "description": "",
            "description_tooltip": null,
            "layout": "IPY_MODEL_8e6d040957ee4cc191b5e38cbb564afc",
            "max": 48,
            "min": 0,
            "orientation": "horizontal",
            "style": "IPY_MODEL_ad533f1385d1459689725c26cbc2ecfb",
            "value": 48
          }
        },
        "1b6bde693ad64f87bec583cc51bcab27": {
          "model_module": "@jupyter-widgets/controls",
          "model_name": "HTMLModel",
          "model_module_version": "1.5.0",
          "state": {
            "_dom_classes": [],
            "_model_module": "@jupyter-widgets/controls",
            "_model_module_version": "1.5.0",
            "_model_name": "HTMLModel",
            "_view_count": null,
            "_view_module": "@jupyter-widgets/controls",
            "_view_module_version": "1.5.0",
            "_view_name": "HTMLView",
            "description": "",
            "description_tooltip": null,
            "layout": "IPY_MODEL_219307c06036498e9b2b504aff238b05",
            "placeholder": "​",
            "style": "IPY_MODEL_2f34468e36fe460d8474ec977840a33f",
            "value": " 48.0/48.0 [00:00&lt;00:00, 821B/s]"
          }
        },
        "a50408fac0b342b79ca6c1b1f9caef57": {
          "model_module": "@jupyter-widgets/base",
          "model_name": "LayoutModel",
          "model_module_version": "1.2.0",
          "state": {
            "_model_module": "@jupyter-widgets/base",
            "_model_module_version": "1.2.0",
            "_model_name": "LayoutModel",
            "_view_count": null,
            "_view_module": "@jupyter-widgets/base",
            "_view_module_version": "1.2.0",
            "_view_name": "LayoutView",
            "align_content": null,
            "align_items": null,
            "align_self": null,
            "border": null,
            "bottom": null,
            "display": null,
            "flex": null,
            "flex_flow": null,
            "grid_area": null,
            "grid_auto_columns": null,
            "grid_auto_flow": null,
            "grid_auto_rows": null,
            "grid_column": null,
            "grid_gap": null,
            "grid_row": null,
            "grid_template_areas": null,
            "grid_template_columns": null,
            "grid_template_rows": null,
            "height": null,
            "justify_content": null,
            "justify_items": null,
            "left": null,
            "margin": null,
            "max_height": null,
            "max_width": null,
            "min_height": null,
            "min_width": null,
            "object_fit": null,
            "object_position": null,
            "order": null,
            "overflow": null,
            "overflow_x": null,
            "overflow_y": null,
            "padding": null,
            "right": null,
            "top": null,
            "visibility": null,
            "width": null
          }
        },
        "b4cc59f8f26d49379143e8d5ba1a91b9": {
          "model_module": "@jupyter-widgets/base",
          "model_name": "LayoutModel",
          "model_module_version": "1.2.0",
          "state": {
            "_model_module": "@jupyter-widgets/base",
            "_model_module_version": "1.2.0",
            "_model_name": "LayoutModel",
            "_view_count": null,
            "_view_module": "@jupyter-widgets/base",
            "_view_module_version": "1.2.0",
            "_view_name": "LayoutView",
            "align_content": null,
            "align_items": null,
            "align_self": null,
            "border": null,
            "bottom": null,
            "display": null,
            "flex": null,
            "flex_flow": null,
            "grid_area": null,
            "grid_auto_columns": null,
            "grid_auto_flow": null,
            "grid_auto_rows": null,
            "grid_column": null,
            "grid_gap": null,
            "grid_row": null,
            "grid_template_areas": null,
            "grid_template_columns": null,
            "grid_template_rows": null,
            "height": null,
            "justify_content": null,
            "justify_items": null,
            "left": null,
            "margin": null,
            "max_height": null,
            "max_width": null,
            "min_height": null,
            "min_width": null,
            "object_fit": null,
            "object_position": null,
            "order": null,
            "overflow": null,
            "overflow_x": null,
            "overflow_y": null,
            "padding": null,
            "right": null,
            "top": null,
            "visibility": null,
            "width": null
          }
        },
        "9fab540095b94d9bb8b1d9f0b23f3ed2": {
          "model_module": "@jupyter-widgets/controls",
          "model_name": "DescriptionStyleModel",
          "model_module_version": "1.5.0",
          "state": {
            "_model_module": "@jupyter-widgets/controls",
            "_model_module_version": "1.5.0",
            "_model_name": "DescriptionStyleModel",
            "_view_count": null,
            "_view_module": "@jupyter-widgets/base",
            "_view_module_version": "1.2.0",
            "_view_name": "StyleView",
            "description_width": ""
          }
        },
        "8e6d040957ee4cc191b5e38cbb564afc": {
          "model_module": "@jupyter-widgets/base",
          "model_name": "LayoutModel",
          "model_module_version": "1.2.0",
          "state": {
            "_model_module": "@jupyter-widgets/base",
            "_model_module_version": "1.2.0",
            "_model_name": "LayoutModel",
            "_view_count": null,
            "_view_module": "@jupyter-widgets/base",
            "_view_module_version": "1.2.0",
            "_view_name": "LayoutView",
            "align_content": null,
            "align_items": null,
            "align_self": null,
            "border": null,
            "bottom": null,
            "display": null,
            "flex": null,
            "flex_flow": null,
            "grid_area": null,
            "grid_auto_columns": null,
            "grid_auto_flow": null,
            "grid_auto_rows": null,
            "grid_column": null,
            "grid_gap": null,
            "grid_row": null,
            "grid_template_areas": null,
            "grid_template_columns": null,
            "grid_template_rows": null,
            "height": null,
            "justify_content": null,
            "justify_items": null,
            "left": null,
            "margin": null,
            "max_height": null,
            "max_width": null,
            "min_height": null,
            "min_width": null,
            "object_fit": null,
            "object_position": null,
            "order": null,
            "overflow": null,
            "overflow_x": null,
            "overflow_y": null,
            "padding": null,
            "right": null,
            "top": null,
            "visibility": null,
            "width": null
          }
        },
        "ad533f1385d1459689725c26cbc2ecfb": {
          "model_module": "@jupyter-widgets/controls",
          "model_name": "ProgressStyleModel",
          "model_module_version": "1.5.0",
          "state": {
            "_model_module": "@jupyter-widgets/controls",
            "_model_module_version": "1.5.0",
            "_model_name": "ProgressStyleModel",
            "_view_count": null,
            "_view_module": "@jupyter-widgets/base",
            "_view_module_version": "1.2.0",
            "_view_name": "StyleView",
            "bar_color": null,
            "description_width": ""
          }
        },
        "219307c06036498e9b2b504aff238b05": {
          "model_module": "@jupyter-widgets/base",
          "model_name": "LayoutModel",
          "model_module_version": "1.2.0",
          "state": {
            "_model_module": "@jupyter-widgets/base",
            "_model_module_version": "1.2.0",
            "_model_name": "LayoutModel",
            "_view_count": null,
            "_view_module": "@jupyter-widgets/base",
            "_view_module_version": "1.2.0",
            "_view_name": "LayoutView",
            "align_content": null,
            "align_items": null,
            "align_self": null,
            "border": null,
            "bottom": null,
            "display": null,
            "flex": null,
            "flex_flow": null,
            "grid_area": null,
            "grid_auto_columns": null,
            "grid_auto_flow": null,
            "grid_auto_rows": null,
            "grid_column": null,
            "grid_gap": null,
            "grid_row": null,
            "grid_template_areas": null,
            "grid_template_columns": null,
            "grid_template_rows": null,
            "height": null,
            "justify_content": null,
            "justify_items": null,
            "left": null,
            "margin": null,
            "max_height": null,
            "max_width": null,
            "min_height": null,
            "min_width": null,
            "object_fit": null,
            "object_position": null,
            "order": null,
            "overflow": null,
            "overflow_x": null,
            "overflow_y": null,
            "padding": null,
            "right": null,
            "top": null,
            "visibility": null,
            "width": null
          }
        },
        "2f34468e36fe460d8474ec977840a33f": {
          "model_module": "@jupyter-widgets/controls",
          "model_name": "DescriptionStyleModel",
          "model_module_version": "1.5.0",
          "state": {
            "_model_module": "@jupyter-widgets/controls",
            "_model_module_version": "1.5.0",
            "_model_name": "DescriptionStyleModel",
            "_view_count": null,
            "_view_module": "@jupyter-widgets/base",
            "_view_module_version": "1.2.0",
            "_view_name": "StyleView",
            "description_width": ""
          }
        },
        "bb0f6bf5ce5c49c8b2148ccd6fd486b6": {
          "model_module": "@jupyter-widgets/controls",
          "model_name": "HBoxModel",
          "model_module_version": "1.5.0",
          "state": {
            "_dom_classes": [],
            "_model_module": "@jupyter-widgets/controls",
            "_model_module_version": "1.5.0",
            "_model_name": "HBoxModel",
            "_view_count": null,
            "_view_module": "@jupyter-widgets/controls",
            "_view_module_version": "1.5.0",
            "_view_name": "HBoxView",
            "box_style": "",
            "children": [
              "IPY_MODEL_83f234172d974f97a59e93ef40ffebc9",
              "IPY_MODEL_387b2cabe4794c77b2ac3a3d965ad4d1",
              "IPY_MODEL_92a00b2c7391440eba5fdd8919301742"
            ],
            "layout": "IPY_MODEL_43bdebe7730f4a74b877783582671219"
          }
        },
        "83f234172d974f97a59e93ef40ffebc9": {
          "model_module": "@jupyter-widgets/controls",
          "model_name": "HTMLModel",
          "model_module_version": "1.5.0",
          "state": {
            "_dom_classes": [],
            "_model_module": "@jupyter-widgets/controls",
            "_model_module_version": "1.5.0",
            "_model_name": "HTMLModel",
            "_view_count": null,
            "_view_module": "@jupyter-widgets/controls",
            "_view_module_version": "1.5.0",
            "_view_name": "HTMLView",
            "description": "",
            "description_tooltip": null,
            "layout": "IPY_MODEL_df3f9fe3a98b460d99b9202950387030",
            "placeholder": "​",
            "style": "IPY_MODEL_947759230cc444e1a12e30a8c15a24b6",
            "value": "vocab.txt: 100%"
          }
        },
        "387b2cabe4794c77b2ac3a3d965ad4d1": {
          "model_module": "@jupyter-widgets/controls",
          "model_name": "FloatProgressModel",
          "model_module_version": "1.5.0",
          "state": {
            "_dom_classes": [],
            "_model_module": "@jupyter-widgets/controls",
            "_model_module_version": "1.5.0",
            "_model_name": "FloatProgressModel",
            "_view_count": null,
            "_view_module": "@jupyter-widgets/controls",
            "_view_module_version": "1.5.0",
            "_view_name": "ProgressView",
            "bar_style": "success",
            "description": "",
            "description_tooltip": null,
            "layout": "IPY_MODEL_556687d97c5449c98a656fafb80c3bfd",
            "max": 231508,
            "min": 0,
            "orientation": "horizontal",
            "style": "IPY_MODEL_3e7a5026997f441e826b25fd570523f1",
            "value": 231508
          }
        },
        "92a00b2c7391440eba5fdd8919301742": {
          "model_module": "@jupyter-widgets/controls",
          "model_name": "HTMLModel",
          "model_module_version": "1.5.0",
          "state": {
            "_dom_classes": [],
            "_model_module": "@jupyter-widgets/controls",
            "_model_module_version": "1.5.0",
            "_model_name": "HTMLModel",
            "_view_count": null,
            "_view_module": "@jupyter-widgets/controls",
            "_view_module_version": "1.5.0",
            "_view_name": "HTMLView",
            "description": "",
            "description_tooltip": null,
            "layout": "IPY_MODEL_c252c1afb2274a94a7cf79ecd53063c2",
            "placeholder": "​",
            "style": "IPY_MODEL_b99660f0f309483fb3dd0da81bbcdd49",
            "value": " 232k/232k [00:00&lt;00:00, 1.44MB/s]"
          }
        },
        "43bdebe7730f4a74b877783582671219": {
          "model_module": "@jupyter-widgets/base",
          "model_name": "LayoutModel",
          "model_module_version": "1.2.0",
          "state": {
            "_model_module": "@jupyter-widgets/base",
            "_model_module_version": "1.2.0",
            "_model_name": "LayoutModel",
            "_view_count": null,
            "_view_module": "@jupyter-widgets/base",
            "_view_module_version": "1.2.0",
            "_view_name": "LayoutView",
            "align_content": null,
            "align_items": null,
            "align_self": null,
            "border": null,
            "bottom": null,
            "display": null,
            "flex": null,
            "flex_flow": null,
            "grid_area": null,
            "grid_auto_columns": null,
            "grid_auto_flow": null,
            "grid_auto_rows": null,
            "grid_column": null,
            "grid_gap": null,
            "grid_row": null,
            "grid_template_areas": null,
            "grid_template_columns": null,
            "grid_template_rows": null,
            "height": null,
            "justify_content": null,
            "justify_items": null,
            "left": null,
            "margin": null,
            "max_height": null,
            "max_width": null,
            "min_height": null,
            "min_width": null,
            "object_fit": null,
            "object_position": null,
            "order": null,
            "overflow": null,
            "overflow_x": null,
            "overflow_y": null,
            "padding": null,
            "right": null,
            "top": null,
            "visibility": null,
            "width": null
          }
        },
        "df3f9fe3a98b460d99b9202950387030": {
          "model_module": "@jupyter-widgets/base",
          "model_name": "LayoutModel",
          "model_module_version": "1.2.0",
          "state": {
            "_model_module": "@jupyter-widgets/base",
            "_model_module_version": "1.2.0",
            "_model_name": "LayoutModel",
            "_view_count": null,
            "_view_module": "@jupyter-widgets/base",
            "_view_module_version": "1.2.0",
            "_view_name": "LayoutView",
            "align_content": null,
            "align_items": null,
            "align_self": null,
            "border": null,
            "bottom": null,
            "display": null,
            "flex": null,
            "flex_flow": null,
            "grid_area": null,
            "grid_auto_columns": null,
            "grid_auto_flow": null,
            "grid_auto_rows": null,
            "grid_column": null,
            "grid_gap": null,
            "grid_row": null,
            "grid_template_areas": null,
            "grid_template_columns": null,
            "grid_template_rows": null,
            "height": null,
            "justify_content": null,
            "justify_items": null,
            "left": null,
            "margin": null,
            "max_height": null,
            "max_width": null,
            "min_height": null,
            "min_width": null,
            "object_fit": null,
            "object_position": null,
            "order": null,
            "overflow": null,
            "overflow_x": null,
            "overflow_y": null,
            "padding": null,
            "right": null,
            "top": null,
            "visibility": null,
            "width": null
          }
        },
        "947759230cc444e1a12e30a8c15a24b6": {
          "model_module": "@jupyter-widgets/controls",
          "model_name": "DescriptionStyleModel",
          "model_module_version": "1.5.0",
          "state": {
            "_model_module": "@jupyter-widgets/controls",
            "_model_module_version": "1.5.0",
            "_model_name": "DescriptionStyleModel",
            "_view_count": null,
            "_view_module": "@jupyter-widgets/base",
            "_view_module_version": "1.2.0",
            "_view_name": "StyleView",
            "description_width": ""
          }
        },
        "556687d97c5449c98a656fafb80c3bfd": {
          "model_module": "@jupyter-widgets/base",
          "model_name": "LayoutModel",
          "model_module_version": "1.2.0",
          "state": {
            "_model_module": "@jupyter-widgets/base",
            "_model_module_version": "1.2.0",
            "_model_name": "LayoutModel",
            "_view_count": null,
            "_view_module": "@jupyter-widgets/base",
            "_view_module_version": "1.2.0",
            "_view_name": "LayoutView",
            "align_content": null,
            "align_items": null,
            "align_self": null,
            "border": null,
            "bottom": null,
            "display": null,
            "flex": null,
            "flex_flow": null,
            "grid_area": null,
            "grid_auto_columns": null,
            "grid_auto_flow": null,
            "grid_auto_rows": null,
            "grid_column": null,
            "grid_gap": null,
            "grid_row": null,
            "grid_template_areas": null,
            "grid_template_columns": null,
            "grid_template_rows": null,
            "height": null,
            "justify_content": null,
            "justify_items": null,
            "left": null,
            "margin": null,
            "max_height": null,
            "max_width": null,
            "min_height": null,
            "min_width": null,
            "object_fit": null,
            "object_position": null,
            "order": null,
            "overflow": null,
            "overflow_x": null,
            "overflow_y": null,
            "padding": null,
            "right": null,
            "top": null,
            "visibility": null,
            "width": null
          }
        },
        "3e7a5026997f441e826b25fd570523f1": {
          "model_module": "@jupyter-widgets/controls",
          "model_name": "ProgressStyleModel",
          "model_module_version": "1.5.0",
          "state": {
            "_model_module": "@jupyter-widgets/controls",
            "_model_module_version": "1.5.0",
            "_model_name": "ProgressStyleModel",
            "_view_count": null,
            "_view_module": "@jupyter-widgets/base",
            "_view_module_version": "1.2.0",
            "_view_name": "StyleView",
            "bar_color": null,
            "description_width": ""
          }
        },
        "c252c1afb2274a94a7cf79ecd53063c2": {
          "model_module": "@jupyter-widgets/base",
          "model_name": "LayoutModel",
          "model_module_version": "1.2.0",
          "state": {
            "_model_module": "@jupyter-widgets/base",
            "_model_module_version": "1.2.0",
            "_model_name": "LayoutModel",
            "_view_count": null,
            "_view_module": "@jupyter-widgets/base",
            "_view_module_version": "1.2.0",
            "_view_name": "LayoutView",
            "align_content": null,
            "align_items": null,
            "align_self": null,
            "border": null,
            "bottom": null,
            "display": null,
            "flex": null,
            "flex_flow": null,
            "grid_area": null,
            "grid_auto_columns": null,
            "grid_auto_flow": null,
            "grid_auto_rows": null,
            "grid_column": null,
            "grid_gap": null,
            "grid_row": null,
            "grid_template_areas": null,
            "grid_template_columns": null,
            "grid_template_rows": null,
            "height": null,
            "justify_content": null,
            "justify_items": null,
            "left": null,
            "margin": null,
            "max_height": null,
            "max_width": null,
            "min_height": null,
            "min_width": null,
            "object_fit": null,
            "object_position": null,
            "order": null,
            "overflow": null,
            "overflow_x": null,
            "overflow_y": null,
            "padding": null,
            "right": null,
            "top": null,
            "visibility": null,
            "width": null
          }
        },
        "b99660f0f309483fb3dd0da81bbcdd49": {
          "model_module": "@jupyter-widgets/controls",
          "model_name": "DescriptionStyleModel",
          "model_module_version": "1.5.0",
          "state": {
            "_model_module": "@jupyter-widgets/controls",
            "_model_module_version": "1.5.0",
            "_model_name": "DescriptionStyleModel",
            "_view_count": null,
            "_view_module": "@jupyter-widgets/base",
            "_view_module_version": "1.2.0",
            "_view_name": "StyleView",
            "description_width": ""
          }
        },
        "9e4891e562cd44d08a21899aad89fae9": {
          "model_module": "@jupyter-widgets/controls",
          "model_name": "HBoxModel",
          "model_module_version": "1.5.0",
          "state": {
            "_dom_classes": [],
            "_model_module": "@jupyter-widgets/controls",
            "_model_module_version": "1.5.0",
            "_model_name": "HBoxModel",
            "_view_count": null,
            "_view_module": "@jupyter-widgets/controls",
            "_view_module_version": "1.5.0",
            "_view_name": "HBoxView",
            "box_style": "",
            "children": [
              "IPY_MODEL_7bd3fd4abd7444c483b7c6ea78c9d234",
              "IPY_MODEL_98d45528af824c0ab167bf6a6ad0e7e0",
              "IPY_MODEL_ccb39b7b84e44657afc48776555ce84b"
            ],
            "layout": "IPY_MODEL_b6502c4004b3474491ab16ab3daf3251"
          }
        },
        "7bd3fd4abd7444c483b7c6ea78c9d234": {
          "model_module": "@jupyter-widgets/controls",
          "model_name": "HTMLModel",
          "model_module_version": "1.5.0",
          "state": {
            "_dom_classes": [],
            "_model_module": "@jupyter-widgets/controls",
            "_model_module_version": "1.5.0",
            "_model_name": "HTMLModel",
            "_view_count": null,
            "_view_module": "@jupyter-widgets/controls",
            "_view_module_version": "1.5.0",
            "_view_name": "HTMLView",
            "description": "",
            "description_tooltip": null,
            "layout": "IPY_MODEL_379a91f01fff45a6a110fdb8480e8577",
            "placeholder": "​",
            "style": "IPY_MODEL_af94507219854451a88fef9668d070fb",
            "value": "tokenizer.json: 100%"
          }
        },
        "98d45528af824c0ab167bf6a6ad0e7e0": {
          "model_module": "@jupyter-widgets/controls",
          "model_name": "FloatProgressModel",
          "model_module_version": "1.5.0",
          "state": {
            "_dom_classes": [],
            "_model_module": "@jupyter-widgets/controls",
            "_model_module_version": "1.5.0",
            "_model_name": "FloatProgressModel",
            "_view_count": null,
            "_view_module": "@jupyter-widgets/controls",
            "_view_module_version": "1.5.0",
            "_view_name": "ProgressView",
            "bar_style": "success",
            "description": "",
            "description_tooltip": null,
            "layout": "IPY_MODEL_7fe70f7e8d6b4cab809684cc1510f697",
            "max": 466062,
            "min": 0,
            "orientation": "horizontal",
            "style": "IPY_MODEL_d47c3321a86547e4b8c2b273e7dd6c8b",
            "value": 466062
          }
        },
        "ccb39b7b84e44657afc48776555ce84b": {
          "model_module": "@jupyter-widgets/controls",
          "model_name": "HTMLModel",
          "model_module_version": "1.5.0",
          "state": {
            "_dom_classes": [],
            "_model_module": "@jupyter-widgets/controls",
            "_model_module_version": "1.5.0",
            "_model_name": "HTMLModel",
            "_view_count": null,
            "_view_module": "@jupyter-widgets/controls",
            "_view_module_version": "1.5.0",
            "_view_name": "HTMLView",
            "description": "",
            "description_tooltip": null,
            "layout": "IPY_MODEL_edb70d53ad004c178f2061e92daca0b3",
            "placeholder": "​",
            "style": "IPY_MODEL_3cf44e2fe60a443c9ef1fc551729b2bd",
            "value": " 466k/466k [00:00&lt;00:00, 2.86MB/s]"
          }
        },
        "b6502c4004b3474491ab16ab3daf3251": {
          "model_module": "@jupyter-widgets/base",
          "model_name": "LayoutModel",
          "model_module_version": "1.2.0",
          "state": {
            "_model_module": "@jupyter-widgets/base",
            "_model_module_version": "1.2.0",
            "_model_name": "LayoutModel",
            "_view_count": null,
            "_view_module": "@jupyter-widgets/base",
            "_view_module_version": "1.2.0",
            "_view_name": "LayoutView",
            "align_content": null,
            "align_items": null,
            "align_self": null,
            "border": null,
            "bottom": null,
            "display": null,
            "flex": null,
            "flex_flow": null,
            "grid_area": null,
            "grid_auto_columns": null,
            "grid_auto_flow": null,
            "grid_auto_rows": null,
            "grid_column": null,
            "grid_gap": null,
            "grid_row": null,
            "grid_template_areas": null,
            "grid_template_columns": null,
            "grid_template_rows": null,
            "height": null,
            "justify_content": null,
            "justify_items": null,
            "left": null,
            "margin": null,
            "max_height": null,
            "max_width": null,
            "min_height": null,
            "min_width": null,
            "object_fit": null,
            "object_position": null,
            "order": null,
            "overflow": null,
            "overflow_x": null,
            "overflow_y": null,
            "padding": null,
            "right": null,
            "top": null,
            "visibility": null,
            "width": null
          }
        },
        "379a91f01fff45a6a110fdb8480e8577": {
          "model_module": "@jupyter-widgets/base",
          "model_name": "LayoutModel",
          "model_module_version": "1.2.0",
          "state": {
            "_model_module": "@jupyter-widgets/base",
            "_model_module_version": "1.2.0",
            "_model_name": "LayoutModel",
            "_view_count": null,
            "_view_module": "@jupyter-widgets/base",
            "_view_module_version": "1.2.0",
            "_view_name": "LayoutView",
            "align_content": null,
            "align_items": null,
            "align_self": null,
            "border": null,
            "bottom": null,
            "display": null,
            "flex": null,
            "flex_flow": null,
            "grid_area": null,
            "grid_auto_columns": null,
            "grid_auto_flow": null,
            "grid_auto_rows": null,
            "grid_column": null,
            "grid_gap": null,
            "grid_row": null,
            "grid_template_areas": null,
            "grid_template_columns": null,
            "grid_template_rows": null,
            "height": null,
            "justify_content": null,
            "justify_items": null,
            "left": null,
            "margin": null,
            "max_height": null,
            "max_width": null,
            "min_height": null,
            "min_width": null,
            "object_fit": null,
            "object_position": null,
            "order": null,
            "overflow": null,
            "overflow_x": null,
            "overflow_y": null,
            "padding": null,
            "right": null,
            "top": null,
            "visibility": null,
            "width": null
          }
        },
        "af94507219854451a88fef9668d070fb": {
          "model_module": "@jupyter-widgets/controls",
          "model_name": "DescriptionStyleModel",
          "model_module_version": "1.5.0",
          "state": {
            "_model_module": "@jupyter-widgets/controls",
            "_model_module_version": "1.5.0",
            "_model_name": "DescriptionStyleModel",
            "_view_count": null,
            "_view_module": "@jupyter-widgets/base",
            "_view_module_version": "1.2.0",
            "_view_name": "StyleView",
            "description_width": ""
          }
        },
        "7fe70f7e8d6b4cab809684cc1510f697": {
          "model_module": "@jupyter-widgets/base",
          "model_name": "LayoutModel",
          "model_module_version": "1.2.0",
          "state": {
            "_model_module": "@jupyter-widgets/base",
            "_model_module_version": "1.2.0",
            "_model_name": "LayoutModel",
            "_view_count": null,
            "_view_module": "@jupyter-widgets/base",
            "_view_module_version": "1.2.0",
            "_view_name": "LayoutView",
            "align_content": null,
            "align_items": null,
            "align_self": null,
            "border": null,
            "bottom": null,
            "display": null,
            "flex": null,
            "flex_flow": null,
            "grid_area": null,
            "grid_auto_columns": null,
            "grid_auto_flow": null,
            "grid_auto_rows": null,
            "grid_column": null,
            "grid_gap": null,
            "grid_row": null,
            "grid_template_areas": null,
            "grid_template_columns": null,
            "grid_template_rows": null,
            "height": null,
            "justify_content": null,
            "justify_items": null,
            "left": null,
            "margin": null,
            "max_height": null,
            "max_width": null,
            "min_height": null,
            "min_width": null,
            "object_fit": null,
            "object_position": null,
            "order": null,
            "overflow": null,
            "overflow_x": null,
            "overflow_y": null,
            "padding": null,
            "right": null,
            "top": null,
            "visibility": null,
            "width": null
          }
        },
        "d47c3321a86547e4b8c2b273e7dd6c8b": {
          "model_module": "@jupyter-widgets/controls",
          "model_name": "ProgressStyleModel",
          "model_module_version": "1.5.0",
          "state": {
            "_model_module": "@jupyter-widgets/controls",
            "_model_module_version": "1.5.0",
            "_model_name": "ProgressStyleModel",
            "_view_count": null,
            "_view_module": "@jupyter-widgets/base",
            "_view_module_version": "1.2.0",
            "_view_name": "StyleView",
            "bar_color": null,
            "description_width": ""
          }
        },
        "edb70d53ad004c178f2061e92daca0b3": {
          "model_module": "@jupyter-widgets/base",
          "model_name": "LayoutModel",
          "model_module_version": "1.2.0",
          "state": {
            "_model_module": "@jupyter-widgets/base",
            "_model_module_version": "1.2.0",
            "_model_name": "LayoutModel",
            "_view_count": null,
            "_view_module": "@jupyter-widgets/base",
            "_view_module_version": "1.2.0",
            "_view_name": "LayoutView",
            "align_content": null,
            "align_items": null,
            "align_self": null,
            "border": null,
            "bottom": null,
            "display": null,
            "flex": null,
            "flex_flow": null,
            "grid_area": null,
            "grid_auto_columns": null,
            "grid_auto_flow": null,
            "grid_auto_rows": null,
            "grid_column": null,
            "grid_gap": null,
            "grid_row": null,
            "grid_template_areas": null,
            "grid_template_columns": null,
            "grid_template_rows": null,
            "height": null,
            "justify_content": null,
            "justify_items": null,
            "left": null,
            "margin": null,
            "max_height": null,
            "max_width": null,
            "min_height": null,
            "min_width": null,
            "object_fit": null,
            "object_position": null,
            "order": null,
            "overflow": null,
            "overflow_x": null,
            "overflow_y": null,
            "padding": null,
            "right": null,
            "top": null,
            "visibility": null,
            "width": null
          }
        },
        "3cf44e2fe60a443c9ef1fc551729b2bd": {
          "model_module": "@jupyter-widgets/controls",
          "model_name": "DescriptionStyleModel",
          "model_module_version": "1.5.0",
          "state": {
            "_model_module": "@jupyter-widgets/controls",
            "_model_module_version": "1.5.0",
            "_model_name": "DescriptionStyleModel",
            "_view_count": null,
            "_view_module": "@jupyter-widgets/base",
            "_view_module_version": "1.2.0",
            "_view_name": "StyleView",
            "description_width": ""
          }
        },
        "3119170204f8409a8d4d60a5da3745c7": {
          "model_module": "@jupyter-widgets/controls",
          "model_name": "HBoxModel",
          "model_module_version": "1.5.0",
          "state": {
            "_dom_classes": [],
            "_model_module": "@jupyter-widgets/controls",
            "_model_module_version": "1.5.0",
            "_model_name": "HBoxModel",
            "_view_count": null,
            "_view_module": "@jupyter-widgets/controls",
            "_view_module_version": "1.5.0",
            "_view_name": "HBoxView",
            "box_style": "",
            "children": [
              "IPY_MODEL_72a703a56ad942b59c73e238288e2c5e",
              "IPY_MODEL_5205464c1e9a411084681c7076b68f47",
              "IPY_MODEL_da7d159c288c45138d1ba0ac1e27224c"
            ],
            "layout": "IPY_MODEL_3140b8e4d5ef48f3bc98a8c96a93e1aa"
          }
        },
        "72a703a56ad942b59c73e238288e2c5e": {
          "model_module": "@jupyter-widgets/controls",
          "model_name": "HTMLModel",
          "model_module_version": "1.5.0",
          "state": {
            "_dom_classes": [],
            "_model_module": "@jupyter-widgets/controls",
            "_model_module_version": "1.5.0",
            "_model_name": "HTMLModel",
            "_view_count": null,
            "_view_module": "@jupyter-widgets/controls",
            "_view_module_version": "1.5.0",
            "_view_name": "HTMLView",
            "description": "",
            "description_tooltip": null,
            "layout": "IPY_MODEL_f2a99b256d324b6e8b7f413c9dd1546e",
            "placeholder": "​",
            "style": "IPY_MODEL_b000a1e3622f45bdb03716f2f8820608",
            "value": "config.json: 100%"
          }
        },
        "5205464c1e9a411084681c7076b68f47": {
          "model_module": "@jupyter-widgets/controls",
          "model_name": "FloatProgressModel",
          "model_module_version": "1.5.0",
          "state": {
            "_dom_classes": [],
            "_model_module": "@jupyter-widgets/controls",
            "_model_module_version": "1.5.0",
            "_model_name": "FloatProgressModel",
            "_view_count": null,
            "_view_module": "@jupyter-widgets/controls",
            "_view_module_version": "1.5.0",
            "_view_name": "ProgressView",
            "bar_style": "success",
            "description": "",
            "description_tooltip": null,
            "layout": "IPY_MODEL_bb5b54faf4864fb4bba19ba6f4da67a8",
            "max": 483,
            "min": 0,
            "orientation": "horizontal",
            "style": "IPY_MODEL_8266bab573c14b13a38f46256171323c",
            "value": 483
          }
        },
        "da7d159c288c45138d1ba0ac1e27224c": {
          "model_module": "@jupyter-widgets/controls",
          "model_name": "HTMLModel",
          "model_module_version": "1.5.0",
          "state": {
            "_dom_classes": [],
            "_model_module": "@jupyter-widgets/controls",
            "_model_module_version": "1.5.0",
            "_model_name": "HTMLModel",
            "_view_count": null,
            "_view_module": "@jupyter-widgets/controls",
            "_view_module_version": "1.5.0",
            "_view_name": "HTMLView",
            "description": "",
            "description_tooltip": null,
            "layout": "IPY_MODEL_574ae52c6dca479888ac4d52937ebbd2",
            "placeholder": "​",
            "style": "IPY_MODEL_afce6dfaaddc44a395173cf261c63785",
            "value": " 483/483 [00:00&lt;00:00, 9.01kB/s]"
          }
        },
        "3140b8e4d5ef48f3bc98a8c96a93e1aa": {
          "model_module": "@jupyter-widgets/base",
          "model_name": "LayoutModel",
          "model_module_version": "1.2.0",
          "state": {
            "_model_module": "@jupyter-widgets/base",
            "_model_module_version": "1.2.0",
            "_model_name": "LayoutModel",
            "_view_count": null,
            "_view_module": "@jupyter-widgets/base",
            "_view_module_version": "1.2.0",
            "_view_name": "LayoutView",
            "align_content": null,
            "align_items": null,
            "align_self": null,
            "border": null,
            "bottom": null,
            "display": null,
            "flex": null,
            "flex_flow": null,
            "grid_area": null,
            "grid_auto_columns": null,
            "grid_auto_flow": null,
            "grid_auto_rows": null,
            "grid_column": null,
            "grid_gap": null,
            "grid_row": null,
            "grid_template_areas": null,
            "grid_template_columns": null,
            "grid_template_rows": null,
            "height": null,
            "justify_content": null,
            "justify_items": null,
            "left": null,
            "margin": null,
            "max_height": null,
            "max_width": null,
            "min_height": null,
            "min_width": null,
            "object_fit": null,
            "object_position": null,
            "order": null,
            "overflow": null,
            "overflow_x": null,
            "overflow_y": null,
            "padding": null,
            "right": null,
            "top": null,
            "visibility": null,
            "width": null
          }
        },
        "f2a99b256d324b6e8b7f413c9dd1546e": {
          "model_module": "@jupyter-widgets/base",
          "model_name": "LayoutModel",
          "model_module_version": "1.2.0",
          "state": {
            "_model_module": "@jupyter-widgets/base",
            "_model_module_version": "1.2.0",
            "_model_name": "LayoutModel",
            "_view_count": null,
            "_view_module": "@jupyter-widgets/base",
            "_view_module_version": "1.2.0",
            "_view_name": "LayoutView",
            "align_content": null,
            "align_items": null,
            "align_self": null,
            "border": null,
            "bottom": null,
            "display": null,
            "flex": null,
            "flex_flow": null,
            "grid_area": null,
            "grid_auto_columns": null,
            "grid_auto_flow": null,
            "grid_auto_rows": null,
            "grid_column": null,
            "grid_gap": null,
            "grid_row": null,
            "grid_template_areas": null,
            "grid_template_columns": null,
            "grid_template_rows": null,
            "height": null,
            "justify_content": null,
            "justify_items": null,
            "left": null,
            "margin": null,
            "max_height": null,
            "max_width": null,
            "min_height": null,
            "min_width": null,
            "object_fit": null,
            "object_position": null,
            "order": null,
            "overflow": null,
            "overflow_x": null,
            "overflow_y": null,
            "padding": null,
            "right": null,
            "top": null,
            "visibility": null,
            "width": null
          }
        },
        "b000a1e3622f45bdb03716f2f8820608": {
          "model_module": "@jupyter-widgets/controls",
          "model_name": "DescriptionStyleModel",
          "model_module_version": "1.5.0",
          "state": {
            "_model_module": "@jupyter-widgets/controls",
            "_model_module_version": "1.5.0",
            "_model_name": "DescriptionStyleModel",
            "_view_count": null,
            "_view_module": "@jupyter-widgets/base",
            "_view_module_version": "1.2.0",
            "_view_name": "StyleView",
            "description_width": ""
          }
        },
        "bb5b54faf4864fb4bba19ba6f4da67a8": {
          "model_module": "@jupyter-widgets/base",
          "model_name": "LayoutModel",
          "model_module_version": "1.2.0",
          "state": {
            "_model_module": "@jupyter-widgets/base",
            "_model_module_version": "1.2.0",
            "_model_name": "LayoutModel",
            "_view_count": null,
            "_view_module": "@jupyter-widgets/base",
            "_view_module_version": "1.2.0",
            "_view_name": "LayoutView",
            "align_content": null,
            "align_items": null,
            "align_self": null,
            "border": null,
            "bottom": null,
            "display": null,
            "flex": null,
            "flex_flow": null,
            "grid_area": null,
            "grid_auto_columns": null,
            "grid_auto_flow": null,
            "grid_auto_rows": null,
            "grid_column": null,
            "grid_gap": null,
            "grid_row": null,
            "grid_template_areas": null,
            "grid_template_columns": null,
            "grid_template_rows": null,
            "height": null,
            "justify_content": null,
            "justify_items": null,
            "left": null,
            "margin": null,
            "max_height": null,
            "max_width": null,
            "min_height": null,
            "min_width": null,
            "object_fit": null,
            "object_position": null,
            "order": null,
            "overflow": null,
            "overflow_x": null,
            "overflow_y": null,
            "padding": null,
            "right": null,
            "top": null,
            "visibility": null,
            "width": null
          }
        },
        "8266bab573c14b13a38f46256171323c": {
          "model_module": "@jupyter-widgets/controls",
          "model_name": "ProgressStyleModel",
          "model_module_version": "1.5.0",
          "state": {
            "_model_module": "@jupyter-widgets/controls",
            "_model_module_version": "1.5.0",
            "_model_name": "ProgressStyleModel",
            "_view_count": null,
            "_view_module": "@jupyter-widgets/base",
            "_view_module_version": "1.2.0",
            "_view_name": "StyleView",
            "bar_color": null,
            "description_width": ""
          }
        },
        "574ae52c6dca479888ac4d52937ebbd2": {
          "model_module": "@jupyter-widgets/base",
          "model_name": "LayoutModel",
          "model_module_version": "1.2.0",
          "state": {
            "_model_module": "@jupyter-widgets/base",
            "_model_module_version": "1.2.0",
            "_model_name": "LayoutModel",
            "_view_count": null,
            "_view_module": "@jupyter-widgets/base",
            "_view_module_version": "1.2.0",
            "_view_name": "LayoutView",
            "align_content": null,
            "align_items": null,
            "align_self": null,
            "border": null,
            "bottom": null,
            "display": null,
            "flex": null,
            "flex_flow": null,
            "grid_area": null,
            "grid_auto_columns": null,
            "grid_auto_flow": null,
            "grid_auto_rows": null,
            "grid_column": null,
            "grid_gap": null,
            "grid_row": null,
            "grid_template_areas": null,
            "grid_template_columns": null,
            "grid_template_rows": null,
            "height": null,
            "justify_content": null,
            "justify_items": null,
            "left": null,
            "margin": null,
            "max_height": null,
            "max_width": null,
            "min_height": null,
            "min_width": null,
            "object_fit": null,
            "object_position": null,
            "order": null,
            "overflow": null,
            "overflow_x": null,
            "overflow_y": null,
            "padding": null,
            "right": null,
            "top": null,
            "visibility": null,
            "width": null
          }
        },
        "afce6dfaaddc44a395173cf261c63785": {
          "model_module": "@jupyter-widgets/controls",
          "model_name": "DescriptionStyleModel",
          "model_module_version": "1.5.0",
          "state": {
            "_model_module": "@jupyter-widgets/controls",
            "_model_module_version": "1.5.0",
            "_model_name": "DescriptionStyleModel",
            "_view_count": null,
            "_view_module": "@jupyter-widgets/base",
            "_view_module_version": "1.2.0",
            "_view_name": "StyleView",
            "description_width": ""
          }
        },
        "7239f4ddfdfb4091a8901ebdfa511287": {
          "model_module": "@jupyter-widgets/controls",
          "model_name": "HBoxModel",
          "model_module_version": "1.5.0",
          "state": {
            "_dom_classes": [],
            "_model_module": "@jupyter-widgets/controls",
            "_model_module_version": "1.5.0",
            "_model_name": "HBoxModel",
            "_view_count": null,
            "_view_module": "@jupyter-widgets/controls",
            "_view_module_version": "1.5.0",
            "_view_name": "HBoxView",
            "box_style": "",
            "children": [
              "IPY_MODEL_928de2c891554034a4f0e325316874a0",
              "IPY_MODEL_ae05d6b208a448199936182c530e615d",
              "IPY_MODEL_ab55dbf830e245b9b827dcd479db354f"
            ],
            "layout": "IPY_MODEL_f085e1ff3d53488ca7c749d0c7052e43"
          }
        },
        "928de2c891554034a4f0e325316874a0": {
          "model_module": "@jupyter-widgets/controls",
          "model_name": "HTMLModel",
          "model_module_version": "1.5.0",
          "state": {
            "_dom_classes": [],
            "_model_module": "@jupyter-widgets/controls",
            "_model_module_version": "1.5.0",
            "_model_name": "HTMLModel",
            "_view_count": null,
            "_view_module": "@jupyter-widgets/controls",
            "_view_module_version": "1.5.0",
            "_view_name": "HTMLView",
            "description": "",
            "description_tooltip": null,
            "layout": "IPY_MODEL_644cbb5104a84569ba9a117d6ce1d2c8",
            "placeholder": "​",
            "style": "IPY_MODEL_b65dfdfddcad4084b716bc2c1c978edb",
            "value": "model.safetensors: 100%"
          }
        },
        "ae05d6b208a448199936182c530e615d": {
          "model_module": "@jupyter-widgets/controls",
          "model_name": "FloatProgressModel",
          "model_module_version": "1.5.0",
          "state": {
            "_dom_classes": [],
            "_model_module": "@jupyter-widgets/controls",
            "_model_module_version": "1.5.0",
            "_model_name": "FloatProgressModel",
            "_view_count": null,
            "_view_module": "@jupyter-widgets/controls",
            "_view_module_version": "1.5.0",
            "_view_name": "ProgressView",
            "bar_style": "success",
            "description": "",
            "description_tooltip": null,
            "layout": "IPY_MODEL_43d48584e42e4255906b577221d76605",
            "max": 267954768,
            "min": 0,
            "orientation": "horizontal",
            "style": "IPY_MODEL_1247cfe8c1164187a35c3d62aa5d1caa",
            "value": 267954768
          }
        },
        "ab55dbf830e245b9b827dcd479db354f": {
          "model_module": "@jupyter-widgets/controls",
          "model_name": "HTMLModel",
          "model_module_version": "1.5.0",
          "state": {
            "_dom_classes": [],
            "_model_module": "@jupyter-widgets/controls",
            "_model_module_version": "1.5.0",
            "_model_name": "HTMLModel",
            "_view_count": null,
            "_view_module": "@jupyter-widgets/controls",
            "_view_module_version": "1.5.0",
            "_view_name": "HTMLView",
            "description": "",
            "description_tooltip": null,
            "layout": "IPY_MODEL_94694a4366ca4b87929711bf9455e238",
            "placeholder": "​",
            "style": "IPY_MODEL_d77235e8eaaf489c9015e612d81b7cbb",
            "value": " 268M/268M [00:13&lt;00:00, 17.5MB/s]"
          }
        },
        "f085e1ff3d53488ca7c749d0c7052e43": {
          "model_module": "@jupyter-widgets/base",
          "model_name": "LayoutModel",
          "model_module_version": "1.2.0",
          "state": {
            "_model_module": "@jupyter-widgets/base",
            "_model_module_version": "1.2.0",
            "_model_name": "LayoutModel",
            "_view_count": null,
            "_view_module": "@jupyter-widgets/base",
            "_view_module_version": "1.2.0",
            "_view_name": "LayoutView",
            "align_content": null,
            "align_items": null,
            "align_self": null,
            "border": null,
            "bottom": null,
            "display": null,
            "flex": null,
            "flex_flow": null,
            "grid_area": null,
            "grid_auto_columns": null,
            "grid_auto_flow": null,
            "grid_auto_rows": null,
            "grid_column": null,
            "grid_gap": null,
            "grid_row": null,
            "grid_template_areas": null,
            "grid_template_columns": null,
            "grid_template_rows": null,
            "height": null,
            "justify_content": null,
            "justify_items": null,
            "left": null,
            "margin": null,
            "max_height": null,
            "max_width": null,
            "min_height": null,
            "min_width": null,
            "object_fit": null,
            "object_position": null,
            "order": null,
            "overflow": null,
            "overflow_x": null,
            "overflow_y": null,
            "padding": null,
            "right": null,
            "top": null,
            "visibility": null,
            "width": null
          }
        },
        "644cbb5104a84569ba9a117d6ce1d2c8": {
          "model_module": "@jupyter-widgets/base",
          "model_name": "LayoutModel",
          "model_module_version": "1.2.0",
          "state": {
            "_model_module": "@jupyter-widgets/base",
            "_model_module_version": "1.2.0",
            "_model_name": "LayoutModel",
            "_view_count": null,
            "_view_module": "@jupyter-widgets/base",
            "_view_module_version": "1.2.0",
            "_view_name": "LayoutView",
            "align_content": null,
            "align_items": null,
            "align_self": null,
            "border": null,
            "bottom": null,
            "display": null,
            "flex": null,
            "flex_flow": null,
            "grid_area": null,
            "grid_auto_columns": null,
            "grid_auto_flow": null,
            "grid_auto_rows": null,
            "grid_column": null,
            "grid_gap": null,
            "grid_row": null,
            "grid_template_areas": null,
            "grid_template_columns": null,
            "grid_template_rows": null,
            "height": null,
            "justify_content": null,
            "justify_items": null,
            "left": null,
            "margin": null,
            "max_height": null,
            "max_width": null,
            "min_height": null,
            "min_width": null,
            "object_fit": null,
            "object_position": null,
            "order": null,
            "overflow": null,
            "overflow_x": null,
            "overflow_y": null,
            "padding": null,
            "right": null,
            "top": null,
            "visibility": null,
            "width": null
          }
        },
        "b65dfdfddcad4084b716bc2c1c978edb": {
          "model_module": "@jupyter-widgets/controls",
          "model_name": "DescriptionStyleModel",
          "model_module_version": "1.5.0",
          "state": {
            "_model_module": "@jupyter-widgets/controls",
            "_model_module_version": "1.5.0",
            "_model_name": "DescriptionStyleModel",
            "_view_count": null,
            "_view_module": "@jupyter-widgets/base",
            "_view_module_version": "1.2.0",
            "_view_name": "StyleView",
            "description_width": ""
          }
        },
        "43d48584e42e4255906b577221d76605": {
          "model_module": "@jupyter-widgets/base",
          "model_name": "LayoutModel",
          "model_module_version": "1.2.0",
          "state": {
            "_model_module": "@jupyter-widgets/base",
            "_model_module_version": "1.2.0",
            "_model_name": "LayoutModel",
            "_view_count": null,
            "_view_module": "@jupyter-widgets/base",
            "_view_module_version": "1.2.0",
            "_view_name": "LayoutView",
            "align_content": null,
            "align_items": null,
            "align_self": null,
            "border": null,
            "bottom": null,
            "display": null,
            "flex": null,
            "flex_flow": null,
            "grid_area": null,
            "grid_auto_columns": null,
            "grid_auto_flow": null,
            "grid_auto_rows": null,
            "grid_column": null,
            "grid_gap": null,
            "grid_row": null,
            "grid_template_areas": null,
            "grid_template_columns": null,
            "grid_template_rows": null,
            "height": null,
            "justify_content": null,
            "justify_items": null,
            "left": null,
            "margin": null,
            "max_height": null,
            "max_width": null,
            "min_height": null,
            "min_width": null,
            "object_fit": null,
            "object_position": null,
            "order": null,
            "overflow": null,
            "overflow_x": null,
            "overflow_y": null,
            "padding": null,
            "right": null,
            "top": null,
            "visibility": null,
            "width": null
          }
        },
        "1247cfe8c1164187a35c3d62aa5d1caa": {
          "model_module": "@jupyter-widgets/controls",
          "model_name": "ProgressStyleModel",
          "model_module_version": "1.5.0",
          "state": {
            "_model_module": "@jupyter-widgets/controls",
            "_model_module_version": "1.5.0",
            "_model_name": "ProgressStyleModel",
            "_view_count": null,
            "_view_module": "@jupyter-widgets/base",
            "_view_module_version": "1.2.0",
            "_view_name": "StyleView",
            "bar_color": null,
            "description_width": ""
          }
        },
        "94694a4366ca4b87929711bf9455e238": {
          "model_module": "@jupyter-widgets/base",
          "model_name": "LayoutModel",
          "model_module_version": "1.2.0",
          "state": {
            "_model_module": "@jupyter-widgets/base",
            "_model_module_version": "1.2.0",
            "_model_name": "LayoutModel",
            "_view_count": null,
            "_view_module": "@jupyter-widgets/base",
            "_view_module_version": "1.2.0",
            "_view_name": "LayoutView",
            "align_content": null,
            "align_items": null,
            "align_self": null,
            "border": null,
            "bottom": null,
            "display": null,
            "flex": null,
            "flex_flow": null,
            "grid_area": null,
            "grid_auto_columns": null,
            "grid_auto_flow": null,
            "grid_auto_rows": null,
            "grid_column": null,
            "grid_gap": null,
            "grid_row": null,
            "grid_template_areas": null,
            "grid_template_columns": null,
            "grid_template_rows": null,
            "height": null,
            "justify_content": null,
            "justify_items": null,
            "left": null,
            "margin": null,
            "max_height": null,
            "max_width": null,
            "min_height": null,
            "min_width": null,
            "object_fit": null,
            "object_position": null,
            "order": null,
            "overflow": null,
            "overflow_x": null,
            "overflow_y": null,
            "padding": null,
            "right": null,
            "top": null,
            "visibility": null,
            "width": null
          }
        },
        "d77235e8eaaf489c9015e612d81b7cbb": {
          "model_module": "@jupyter-widgets/controls",
          "model_name": "DescriptionStyleModel",
          "model_module_version": "1.5.0",
          "state": {
            "_model_module": "@jupyter-widgets/controls",
            "_model_module_version": "1.5.0",
            "_model_name": "DescriptionStyleModel",
            "_view_count": null,
            "_view_module": "@jupyter-widgets/base",
            "_view_module_version": "1.2.0",
            "_view_name": "StyleView",
            "description_width": ""
          }
        }
      }
    }
  },
  "cells": [
    {
      "cell_type": "markdown",
      "source": [
        "# 1. Data Loading and Cleaning\n",
        "\n"
      ],
      "metadata": {
        "id": "9NYLmJm9x-u6"
      }
    },
    {
      "cell_type": "code",
      "source": [
        "\n",
        "\n",
        "import pandas as pd\n",
        "import re\n",
        "import torch\n",
        "import torch.nn as nn\n",
        "import torch.optim as optim\n",
        "from torch.utils.data import Dataset, DataLoader, random_split\n",
        "from transformers import DistilBertTokenizer, DistilBertModel\n",
        "from sklearn.metrics import classification_report\n",
        "\n",
        "\n",
        "#df = pd.read_csv('data.csv')\n",
        "df = pd.read_csv('/content/labeled_data.csv')\n",
        "\n",
        "\n",
        "# Keeping only necessary columns\n",
        "df = df[['tweet', 'class']]\n",
        "\n",
        "\n",
        "\n"
      ],
      "metadata": {
        "id": "VrjuNZ-27nXx"
      },
      "execution_count": null,
      "outputs": []
    },
    {
      "cell_type": "markdown",
      "source": [
        "# 2. Basic Preprocessing\n",
        "\n"
      ],
      "metadata": {
        "id": "TcdbIQsm8X97"
      }
    },
    {
      "cell_type": "code",
      "source": [
        "!pip install emoji"
      ],
      "metadata": {
        "collapsed": true,
        "id": "nncWSruZ_Yg2",
        "colab": {
          "base_uri": "https://localhost:8080/"
        },
        "outputId": "f1eca823-2563-4b25-83e1-d1c9d12d8261"
      },
      "execution_count": null,
      "outputs": [
        {
          "output_type": "stream",
          "name": "stdout",
          "text": [
            "Collecting emoji\n",
            "  Downloading emoji-2.14.1-py3-none-any.whl.metadata (5.7 kB)\n",
            "Downloading emoji-2.14.1-py3-none-any.whl (590 kB)\n",
            "\u001b[?25l   \u001b[90m━━━━━━━━━━━━━━━━━━━━━━━━━━━━━━━━━━━━━━━━\u001b[0m \u001b[32m0.0/590.6 kB\u001b[0m \u001b[31m?\u001b[0m eta \u001b[36m-:--:--\u001b[0m\r\u001b[2K   \u001b[91m━━━━━━━━━━━━━━━━━\u001b[0m\u001b[90m╺\u001b[0m\u001b[90m━━━━━━━━━━━━━━━━━━━━━━\u001b[0m \u001b[32m256.0/590.6 kB\u001b[0m \u001b[31m7.4 MB/s\u001b[0m eta \u001b[36m0:00:01\u001b[0m\r\u001b[2K   \u001b[90m━━━━━━━━━━━━━━━━━━━━━━━━━━━━━━━━━━━━━━━━\u001b[0m \u001b[32m590.6/590.6 kB\u001b[0m \u001b[31m11.2 MB/s\u001b[0m eta \u001b[36m0:00:00\u001b[0m\n",
            "\u001b[?25hInstalling collected packages: emoji\n",
            "Successfully installed emoji-2.14.1\n"
          ]
        }
      ]
    },
    {
      "cell_type": "code",
      "source": [
        "import re\n",
        "import emoji\n",
        "import nltk\n",
        "from nltk.corpus import stopwords\n",
        "from nltk.stem import WordNetLemmatizer\n",
        "\n",
        "# Ensure you’ve run these once:\n",
        "nltk.download('stopwords')\n",
        "nltk.download('wordnet')\n",
        "nltk.download('omw-1.4')\n",
        "\n",
        "stop_words = set(stopwords.words('english'))\n",
        "lemmatizer = WordNetLemmatizer()\n",
        "\n",
        "def clean_text(text):\n",
        "    text = emoji.demojize(text)\n",
        "    text = re.sub(r':\\w+?:', '', text)\n",
        "    text = text.lower()\n",
        "    text = re.sub(r'<.*?>', ' ', text)\n",
        "    text = re.sub(r'@\\w+', '', text)\n",
        "    text = re.sub(r'http\\S+|www\\.\\S+', '', text)\n",
        "    text = re.sub(r'\\d+', '', text)\n",
        "    text = re.sub(r'#([A-Za-z0-9_]+)', r'\\1', text)\n",
        "    text = re.sub(r'[^\\w\\s]', ' ', text)\n",
        "    text = re.sub(r'(.)\\1{2,}', r'\\1', text)\n",
        "    tokens = text.split()\n",
        "    cleaned_tokens = []\n",
        "    for tok in tokens:\n",
        "        if tok not in stop_words:\n",
        "            lemma = lemmatizer.lemmatize(tok)\n",
        "            cleaned_tokens.append(lemma)\n",
        "\n",
        "    # 10. Rejoin\n",
        "    return ' '.join(cleaned_tokens)\n",
        "\n",
        "# Apply\n",
        "df['tweet'] = df['tweet'].apply(clean_text)\n"
      ],
      "metadata": {
        "id": "L-HWSeRK8ZmY",
        "colab": {
          "base_uri": "https://localhost:8080/"
        },
        "outputId": "dae84ae5-76e3-4514-b6ae-8abf8f4b493e"
      },
      "execution_count": null,
      "outputs": [
        {
          "output_type": "stream",
          "name": "stderr",
          "text": [
            "[nltk_data] Downloading package stopwords to /root/nltk_data...\n",
            "[nltk_data]   Unzipping corpora/stopwords.zip.\n",
            "[nltk_data] Downloading package wordnet to /root/nltk_data...\n",
            "[nltk_data] Downloading package omw-1.4 to /root/nltk_data...\n"
          ]
        }
      ]
    },
    {
      "cell_type": "markdown",
      "source": [
        "# 3. Dataset Preparation\n"
      ],
      "metadata": {
        "id": "vs6UcbjN8jDv"
      }
    },
    {
      "cell_type": "code",
      "source": [
        "# Label Mapping\n",
        "label_map = {\n",
        "    0: \"Hate Speech\",\n",
        "    1: \"Offensive Language\",\n",
        "    2: \"Neither\"\n",
        "}"
      ],
      "metadata": {
        "id": "ebqDcW0nEiG2"
      },
      "execution_count": null,
      "outputs": []
    },
    {
      "cell_type": "code",
      "source": [
        "\n",
        "tokenizer = DistilBertTokenizer.from_pretrained('distilbert-base-uncased')\n",
        "\n",
        "class HateSpeechDataset(Dataset):\n",
        "    def __init__(self, texts, labels, tokenizer, max_len=64):\n",
        "        self.texts = texts\n",
        "        self.labels = labels\n",
        "        self.tokenizer = tokenizer\n",
        "        self.max_len = max_len\n",
        "\n",
        "    def __len__(self):\n",
        "        return len(self.texts)\n",
        "\n",
        "    def __getitem__(self, idx):\n",
        "        encoding = self.tokenizer.encode_plus(\n",
        "            self.texts[idx],\n",
        "            add_special_tokens=True,\n",
        "            truncation=True,\n",
        "            max_length=self.max_len,\n",
        "            padding='max_length',\n",
        "            return_tensors='pt'\n",
        "        )\n",
        "        input_ids = encoding['input_ids'].squeeze()\n",
        "        attention_mask = encoding['attention_mask'].squeeze()\n",
        "\n",
        "        return {\n",
        "            'input_ids': input_ids,\n",
        "            'attention_mask': attention_mask,\n",
        "            'label': torch.tensor(self.labels[idx], dtype=torch.long)\n",
        "        }\n",
        "\n",
        "dataset = HateSpeechDataset(df['tweet'].tolist(), df['class'].tolist(), tokenizer)\n",
        "\n",
        "# Split into train and validation\n",
        "train_size = int(0.7 * len(dataset))\n",
        "val_size = len(dataset) - train_size\n",
        "train_dataset, val_dataset = random_split(dataset, [train_size, val_size])\n",
        "\n",
        "train_loader = DataLoader(train_dataset, batch_size=16, shuffle=True)\n",
        "val_loader = DataLoader(val_dataset, batch_size=16)\n",
        "\n"
      ],
      "metadata": {
        "id": "_l3AZ6yC8j7P",
        "colab": {
          "base_uri": "https://localhost:8080/",
          "height": 269,
          "referenced_widgets": [
            "d9708d56227541cfbcd38be3a5688572",
            "80ba10094fa941d2a55f73427543b259",
            "4fd69165e15d402fa4cd38ff36a147c1",
            "1b6bde693ad64f87bec583cc51bcab27",
            "a50408fac0b342b79ca6c1b1f9caef57",
            "b4cc59f8f26d49379143e8d5ba1a91b9",
            "9fab540095b94d9bb8b1d9f0b23f3ed2",
            "8e6d040957ee4cc191b5e38cbb564afc",
            "ad533f1385d1459689725c26cbc2ecfb",
            "219307c06036498e9b2b504aff238b05",
            "2f34468e36fe460d8474ec977840a33f",
            "bb0f6bf5ce5c49c8b2148ccd6fd486b6",
            "83f234172d974f97a59e93ef40ffebc9",
            "387b2cabe4794c77b2ac3a3d965ad4d1",
            "92a00b2c7391440eba5fdd8919301742",
            "43bdebe7730f4a74b877783582671219",
            "df3f9fe3a98b460d99b9202950387030",
            "947759230cc444e1a12e30a8c15a24b6",
            "556687d97c5449c98a656fafb80c3bfd",
            "3e7a5026997f441e826b25fd570523f1",
            "c252c1afb2274a94a7cf79ecd53063c2",
            "b99660f0f309483fb3dd0da81bbcdd49",
            "9e4891e562cd44d08a21899aad89fae9",
            "7bd3fd4abd7444c483b7c6ea78c9d234",
            "98d45528af824c0ab167bf6a6ad0e7e0",
            "ccb39b7b84e44657afc48776555ce84b",
            "b6502c4004b3474491ab16ab3daf3251",
            "379a91f01fff45a6a110fdb8480e8577",
            "af94507219854451a88fef9668d070fb",
            "7fe70f7e8d6b4cab809684cc1510f697",
            "d47c3321a86547e4b8c2b273e7dd6c8b",
            "edb70d53ad004c178f2061e92daca0b3",
            "3cf44e2fe60a443c9ef1fc551729b2bd",
            "3119170204f8409a8d4d60a5da3745c7",
            "72a703a56ad942b59c73e238288e2c5e",
            "5205464c1e9a411084681c7076b68f47",
            "da7d159c288c45138d1ba0ac1e27224c",
            "3140b8e4d5ef48f3bc98a8c96a93e1aa",
            "f2a99b256d324b6e8b7f413c9dd1546e",
            "b000a1e3622f45bdb03716f2f8820608",
            "bb5b54faf4864fb4bba19ba6f4da67a8",
            "8266bab573c14b13a38f46256171323c",
            "574ae52c6dca479888ac4d52937ebbd2",
            "afce6dfaaddc44a395173cf261c63785"
          ]
        },
        "outputId": "ab3bd6c2-7258-49a2-e3a9-03cbe2ce973b"
      },
      "execution_count": null,
      "outputs": [
        {
          "output_type": "stream",
          "name": "stderr",
          "text": [
            "/usr/local/lib/python3.11/dist-packages/huggingface_hub/utils/_auth.py:94: UserWarning: \n",
            "The secret `HF_TOKEN` does not exist in your Colab secrets.\n",
            "To authenticate with the Hugging Face Hub, create a token in your settings tab (https://huggingface.co/settings/tokens), set it as secret in your Google Colab and restart your session.\n",
            "You will be able to reuse this secret in all of your notebooks.\n",
            "Please note that authentication is recommended but still optional to access public models or datasets.\n",
            "  warnings.warn(\n"
          ]
        },
        {
          "output_type": "display_data",
          "data": {
            "text/plain": [
              "tokenizer_config.json:   0%|          | 0.00/48.0 [00:00<?, ?B/s]"
            ],
            "application/vnd.jupyter.widget-view+json": {
              "version_major": 2,
              "version_minor": 0,
              "model_id": "d9708d56227541cfbcd38be3a5688572"
            }
          },
          "metadata": {}
        },
        {
          "output_type": "display_data",
          "data": {
            "text/plain": [
              "vocab.txt:   0%|          | 0.00/232k [00:00<?, ?B/s]"
            ],
            "application/vnd.jupyter.widget-view+json": {
              "version_major": 2,
              "version_minor": 0,
              "model_id": "bb0f6bf5ce5c49c8b2148ccd6fd486b6"
            }
          },
          "metadata": {}
        },
        {
          "output_type": "display_data",
          "data": {
            "text/plain": [
              "tokenizer.json:   0%|          | 0.00/466k [00:00<?, ?B/s]"
            ],
            "application/vnd.jupyter.widget-view+json": {
              "version_major": 2,
              "version_minor": 0,
              "model_id": "9e4891e562cd44d08a21899aad89fae9"
            }
          },
          "metadata": {}
        },
        {
          "output_type": "display_data",
          "data": {
            "text/plain": [
              "config.json:   0%|          | 0.00/483 [00:00<?, ?B/s]"
            ],
            "application/vnd.jupyter.widget-view+json": {
              "version_major": 2,
              "version_minor": 0,
              "model_id": "3119170204f8409a8d4d60a5da3745c7"
            }
          },
          "metadata": {}
        }
      ]
    },
    {
      "cell_type": "markdown",
      "source": [
        "# 4. Model Implementation\n",
        "\n"
      ],
      "metadata": {
        "id": "4oVz2i168tls"
      }
    },
    {
      "cell_type": "code",
      "source": [
        "class DistilBERTClassifier(nn.Module):\n",
        "    def __init__(self, dropout_rate=0.3, num_classes=3):\n",
        "        super(DistilBERTClassifier, self).__init__()\n",
        "        self.bert = DistilBertModel.from_pretrained('distilbert-base-uncased')\n",
        "        self.dropout = nn.Dropout(dropout_rate)\n",
        "        self.fc = nn.Linear(self.bert.config.hidden_size, num_classes)\n",
        "\n",
        "    def forward(self, input_ids, attention_mask):\n",
        "        outputs = self.bert(input_ids=input_ids, attention_mask=attention_mask)\n",
        "        hidden_state = outputs.last_hidden_state  # (batch_size, sequence_length, hidden_size)\n",
        "        pooled_output = hidden_state[:, 0]        # Take the first [CLS] token\n",
        "        dropped_out = self.dropout(pooled_output)\n",
        "        logits = self.fc(dropped_out)\n",
        "        return logits\n",
        "\n",
        "device = torch.device('cuda' if torch.cuda.is_available() else 'cpu')\n",
        "model = DistilBERTClassifier().to(device)\n",
        "\n",
        "####################################################################################################\n",
        "\n",
        "from tqdm import tqdm\n",
        "import numpy as np\n",
        "\n",
        "# Switch model to eval mode to extract embeddings\n",
        "model.eval()\n",
        "sentence_embeddings = []\n",
        "all_labels = []\n",
        "\n",
        "with torch.no_grad():\n",
        "    for batch in tqdm(DataLoader(dataset, batch_size=32)):\n",
        "        input_ids = batch['input_ids'].to(device)\n",
        "        attention_mask = batch['attention_mask'].to(device)\n",
        "        labels = batch['label']\n",
        "\n",
        "        outputs = model.bert(input_ids=input_ids, attention_mask=attention_mask)\n",
        "        cls_embeddings = outputs.last_hidden_state[:, 0, :].cpu().numpy()  # CLS token\n",
        "        sentence_embeddings.append(cls_embeddings)\n",
        "        all_labels.extend(labels.numpy())\n",
        "\n",
        "X = np.vstack(sentence_embeddings)\n",
        "y = np.array(all_labels)\n",
        "\n",
        "!pip install -U imbalanced-learn\n",
        "from imblearn.over_sampling import SMOTE\n",
        "\n",
        "smote = SMOTE(random_state=42)\n",
        "X_resampled, y_resampled = smote.fit_resample(X, y)\n",
        "\n",
        "print(\"Original class distribution:\", np.bincount(y))\n",
        "print(\"After SMOTE:\", np.bincount(y_resampled))\n",
        "\n",
        "\n",
        "\n",
        "####################################################################################################\n",
        "# Optimizer and Loss\n",
        "optimizer = optim.AdamW(model.parameters(), lr=2e-5)\n",
        "criterion = nn.CrossEntropyLoss()\n",
        "\n"
      ],
      "metadata": {
        "id": "tmz6y7Wu8uai",
        "colab": {
          "base_uri": "https://localhost:8080/",
          "height": 243,
          "referenced_widgets": [
            "7239f4ddfdfb4091a8901ebdfa511287",
            "928de2c891554034a4f0e325316874a0",
            "ae05d6b208a448199936182c530e615d",
            "ab55dbf830e245b9b827dcd479db354f",
            "f085e1ff3d53488ca7c749d0c7052e43",
            "644cbb5104a84569ba9a117d6ce1d2c8",
            "b65dfdfddcad4084b716bc2c1c978edb",
            "43d48584e42e4255906b577221d76605",
            "1247cfe8c1164187a35c3d62aa5d1caa",
            "94694a4366ca4b87929711bf9455e238",
            "d77235e8eaaf489c9015e612d81b7cbb"
          ]
        },
        "outputId": "4edb7efe-fd1a-49bf-ebee-faafb461a643"
      },
      "execution_count": null,
      "outputs": [
        {
          "output_type": "display_data",
          "data": {
            "text/plain": [
              "model.safetensors:   0%|          | 0.00/268M [00:00<?, ?B/s]"
            ],
            "application/vnd.jupyter.widget-view+json": {
              "version_major": 2,
              "version_minor": 0,
              "model_id": "7239f4ddfdfb4091a8901ebdfa511287"
            }
          },
          "metadata": {}
        },
        {
          "output_type": "stream",
          "name": "stderr",
          "text": [
            "100%|██████████| 775/775 [00:52<00:00, 14.62it/s]\n"
          ]
        },
        {
          "output_type": "stream",
          "name": "stdout",
          "text": [
            "Requirement already satisfied: imbalanced-learn in /usr/local/lib/python3.11/dist-packages (0.13.0)\n",
            "Requirement already satisfied: numpy<3,>=1.24.3 in /usr/local/lib/python3.11/dist-packages (from imbalanced-learn) (2.0.2)\n",
            "Requirement already satisfied: scipy<2,>=1.10.1 in /usr/local/lib/python3.11/dist-packages (from imbalanced-learn) (1.15.2)\n",
            "Requirement already satisfied: scikit-learn<2,>=1.3.2 in /usr/local/lib/python3.11/dist-packages (from imbalanced-learn) (1.6.1)\n",
            "Requirement already satisfied: sklearn-compat<1,>=0.1 in /usr/local/lib/python3.11/dist-packages (from imbalanced-learn) (0.1.3)\n",
            "Requirement already satisfied: joblib<2,>=1.1.1 in /usr/local/lib/python3.11/dist-packages (from imbalanced-learn) (1.5.0)\n",
            "Requirement already satisfied: threadpoolctl<4,>=2.0.0 in /usr/local/lib/python3.11/dist-packages (from imbalanced-learn) (3.6.0)\n",
            "Original class distribution: [ 1430 19190  4163]\n",
            "After SMOTE: [19190 19190 19190]\n"
          ]
        }
      ]
    },
    {
      "cell_type": "markdown",
      "source": [
        "# 5. Training and Evaluation\n"
      ],
      "metadata": {
        "id": "zZRcgwoe8yCM"
      }
    },
    {
      "cell_type": "code",
      "source": [
        "\n",
        "from sklearn.linear_model import LogisticRegression\n",
        "from sklearn.model_selection import train_test_split\n",
        "from sklearn.metrics import classification_report\n",
        "\n",
        "# Train/validation split\n",
        "X_train, X_val, y_train, y_val = train_test_split(X_resampled, y_resampled, test_size=0.3, random_state=42)\n",
        "\n",
        "# Train a simple classifier\n",
        "clf = LogisticRegression(max_iter=1000)\n",
        "clf.fit(X_train, y_train)\n",
        "\n",
        "# Evaluation\n",
        "y_pred = clf.predict(X_val)\n",
        "print(classification_report(y_val, y_pred, target_names=list(label_map.values())))\n",
        "\n",
        "print(\"Lengths match:\", len(y_val), len(y_pred))\n",
        "\n",
        "\n"
      ],
      "metadata": {
        "id": "y1y0oUKQ8y31",
        "colab": {
          "base_uri": "https://localhost:8080/"
        },
        "outputId": "a81bb8b5-f6da-4fd8-8a42-1cb062e1ac23"
      },
      "execution_count": null,
      "outputs": [
        {
          "output_type": "stream",
          "name": "stdout",
          "text": [
            "                    precision    recall  f1-score   support\n",
            "\n",
            "       Hate Speech       0.79      0.80      0.80      5742\n",
            "Offensive Language       0.81      0.77      0.79      5733\n",
            "           Neither       0.87      0.90      0.89      5796\n",
            "\n",
            "          accuracy                           0.83     17271\n",
            "         macro avg       0.82      0.83      0.83     17271\n",
            "      weighted avg       0.83      0.83      0.83     17271\n",
            "\n",
            "Lengths match: 17271 17271\n"
          ]
        }
      ]
    },
    {
      "cell_type": "markdown",
      "source": [
        "# Confusion Matrix"
      ],
      "metadata": {
        "id": "Hn6R1fNgBWZa"
      }
    },
    {
      "cell_type": "code",
      "source": [
        "from sklearn.metrics import confusion_matrix, ConfusionMatrixDisplay\n",
        "import matplotlib.pyplot as plt\n",
        "\n",
        "# Correct: Use predictions from Logistic Regression\n",
        "cm = confusion_matrix(y_val, y_pred)\n",
        "disp = ConfusionMatrixDisplay(confusion_matrix=cm, display_labels=list(label_map.values()))\n",
        "disp.plot(cmap=plt.cm.Blues)\n",
        "plt.title(\"Confusion Matrix (Logistic Regression + SMOTE)\")\n",
        "plt.show()"
      ],
      "metadata": {
        "colab": {
          "base_uri": "https://localhost:8080/",
          "height": 472
        },
        "id": "IccdGdjJBcWI",
        "outputId": "d2ff8e9a-bd1f-4216-fdd8-5f6a5cde804f"
      },
      "execution_count": null,
      "outputs": [
        {
          "output_type": "display_data",
          "data": {
            "text/plain": [
              "<Figure size 640x480 with 2 Axes>"
            ],
            "image/png": "[encoded data removed]"
          },
          "metadata": {}
        }
      ]
    },
    {
      "cell_type": "markdown",
      "source": [
        "# Bar Chart for Class-wise Metrics"
      ],
      "metadata": {
        "id": "JgA1qgYwECKk"
      }
    },
    {
      "cell_type": "code",
      "source": [
        "from sklearn.metrics import classification_report\n",
        "import matplotlib.pyplot as plt\n",
        "import pandas as pd\n",
        "\n",
        "# Get report as dict\n",
        "report_dict = classification_report(y_val, y_pred, target_names=list(label_map.values()), output_dict=True)\n",
        "\n",
        "# Convert to DataFrame and remove accuracy/global rows\n",
        "df_metrics = pd.DataFrame(report_dict).T\n",
        "df_metrics = df_metrics.drop(['accuracy', 'macro avg', 'weighted avg'])\n",
        "\n",
        "# Plot\n",
        "df_metrics[['precision', 'recall', 'f1-score']].plot(kind='bar', figsize=(10, 6))\n",
        "plt.title('Precision, Recall, F1-score per Class')\n",
        "plt.xlabel('Class')\n",
        "plt.ylabel('Score')\n",
        "plt.ylim(0, 1.0)\n",
        "plt.xticks(rotation=30)\n",
        "plt.grid(axis='y')\n",
        "plt.legend(loc='lower right')\n",
        "plt.tight_layout()\n",
        "plt.show()"
      ],
      "metadata": {
        "colab": {
          "base_uri": "https://localhost:8080/",
          "height": 532
        },
        "id": "5xshvHYEED5y",
        "outputId": "b8cedc9b-ab15-4902-adb3-c04ee7d125c0"
      },
      "execution_count": null,
      "outputs": [
        {
          "output_type": "display_data",
          "data": {
            "text/plain": [
              "<Figure size 1000x600 with 1 Axes>"
            ],
            "image/png": "[encoded data removed]"
          },
          "metadata": {}
        }
      ]
    },
    {
      "cell_type": "code",
      "source": [
        "# Display table version\n",
        "from IPython.display import display\n",
        "display(df_metrics[['precision', 'recall', 'f1-score', 'support']].round(3))"
      ],
      "metadata": {
        "colab": {
          "base_uri": "https://localhost:8080/",
          "height": 143
        },
        "id": "fWJSbAObEN_q",
        "outputId": "6885b85f-4732-4008-8415-033baac118e0"
      },
      "execution_count": null,
      "outputs": [
        {
          "output_type": "display_data",
          "data": {
            "text/plain": [
              "                    precision  recall  f1-score  support\n",
              "Hate Speech             0.795   0.801     0.798   5742.0\n",
              "Offensive Language      0.807   0.771     0.789   5733.0\n",
              "Neither                 0.873   0.904     0.889   5796.0"
            ],
            "text/html": [
              "\n",
              "  <div id=\"df-8170ba75-782d-4e1e-a4c6-a00d478091ad\" class=\"colab-df-container\">\n",
              "    <div>\n",
              "<style scoped>\n",
              "    .dataframe tbody tr th:only-of-type {\n",
              "        vertical-align: middle;\n",
              "    }\n",
              "\n",
              "    .dataframe tbody tr th {\n",
              "        vertical-align: top;\n",
              "    }\n",
              "\n",
              "    .dataframe thead th {\n",
              "        text-align: right;\n",
              "    }\n",
              "</style>\n",
              "<table border=\"1\" class=\"dataframe\">\n",
              "  <thead>\n",
              "    <tr style=\"text-align: right;\">\n",
              "      <th></th>\n",
              "      <th>precision</th>\n",
              "      <th>recall</th>\n",
              "      <th>f1-score</th>\n",
              "      <th>support</th>\n",
              "    </tr>\n",
              "  </thead>\n",
              "  <tbody>\n",
              "    <tr>\n",
              "      <th>Hate Speech</th>\n",
              "      <td>0.795</td>\n",
              "      <td>0.801</td>\n",
              "      <td>0.798</td>\n",
              "      <td>5742.0</td>\n",
              "    </tr>\n",
              "    <tr>\n",
              "      <th>Offensive Language</th>\n",
              "      <td>0.807</td>\n",
              "      <td>0.771</td>\n",
              "      <td>0.789</td>\n",
              "      <td>5733.0</td>\n",
              "    </tr>\n",
              "    <tr>\n",
              "      <th>Neither</th>\n",
              "      <td>0.873</td>\n",
              "      <td>0.904</td>\n",
              "      <td>0.889</td>\n",
              "      <td>5796.0</td>\n",
              "    </tr>\n",
              "  </tbody>\n",
              "</table>\n",
              "</div>\n",
              "    <div class=\"colab-df-buttons\">\n",
              "\n",
              "  <div class=\"colab-df-container\">\n",
              "    <button class=\"colab-df-convert\" onclick=\"convertToInteractive('df-8170ba75-782d-4e1e-a4c6-a00d478091ad')\"\n",
              "            title=\"Convert this dataframe to an interactive table.\"\n",
              "            style=\"display:none;\">\n",
              "\n",
              "  <svg xmlns=\"http://www.w3.org/2000/svg\" height=\"24px\" viewBox=\"0 -960 960 960\">\n",
              "    <path d=\"M120-120v-720h720v720H120Zm60-500h600v-160H180v160Zm220 220h160v-160H400v160Zm0 220h160v-160H400v160ZM180-400h160v-160H180v160Zm440 0h160v-160H620v160ZM180-180h160v-160H180v160Zm440 0h160v-160H620v160Z\"/>\n",
              "  </svg>\n",
              "    </button>\n",
              "\n",
              "  <style>\n",
              "    .colab-df-container {\n",
              "      display:flex;\n",
              "      gap: 12px;\n",
              "    }\n",
              "\n",
              "    .colab-df-convert {\n",
              "      background-color: #E8F0FE;\n",
              "      border: none;\n",
              "      border-radius: 50%;\n",
              "      cursor: pointer;\n",
              "      display: none;\n",
              "      fill: #1967D2;\n",
              "      height: 32px;\n",
              "      padding: 0 0 0 0;\n",
              "      width: 32px;\n",
              "    }\n",
              "\n",
              "    .colab-df-convert:hover {\n",
              "      background-color: #E2EBFA;\n",
              "      box-shadow: 0px 1px 2px rgba(60, 64, 67, 0.3), 0px 1px 3px 1px rgba(60, 64, 67, 0.15);\n",
              "      fill: #174EA6;\n",
              "    }\n",
              "\n",
              "    .colab-df-buttons div {\n",
              "      margin-bottom: 4px;\n",
              "    }\n",
              "\n",
              "    [theme=dark] .colab-df-convert {\n",
              "      background-color: #3B4455;\n",
              "      fill: #D2E3FC;\n",
              "    }\n",
              "\n",
              "    [theme=dark] .colab-df-convert:hover {\n",
              "      background-color: #434B5C;\n",
              "      box-shadow: 0px 1px 3px 1px rgba(0, 0, 0, 0.15);\n",
              "      filter: drop-shadow(0px 1px 2px rgba(0, 0, 0, 0.3));\n",
              "      fill: #FFFFFF;\n",
              "    }\n",
              "  </style>\n",
              "\n",
              "    <script>\n",
              "      const buttonEl =\n",
              "        document.querySelector('#df-8170ba75-782d-4e1e-a4c6-a00d478091ad button.colab-df-convert');\n",
              "      buttonEl.style.display =\n",
              "        google.colab.kernel.accessAllowed ? 'block' : 'none';\n",
              "\n",
              "      async function convertToInteractive(key) {\n",
              "        const element = document.querySelector('#df-8170ba75-782d-4e1e-a4c6-a00d478091ad');\n",
              "        const dataTable =\n",
              "          await google.colab.kernel.invokeFunction('convertToInteractive',\n",
              "                                                    [key], {});\n",
              "        if (!dataTable) return;\n",
              "\n",
              "        const docLinkHtml = 'Like what you see? Visit the ' +\n",
              "          '<a target=\"_blank\" href=https://colab.research.google.com/notebooks/data_table.ipynb>data table notebook</a>'\n",
              "          + ' to learn more about interactive tables.';\n",
              "        element.innerHTML = '';\n",
              "        dataTable['output_type'] = 'display_data';\n",
              "        await google.colab.output.renderOutput(dataTable, element);\n",
              "        const docLink = document.createElement('div');\n",
              "        docLink.innerHTML = docLinkHtml;\n",
              "        element.appendChild(docLink);\n",
              "      }\n",
              "    </script>\n",
              "  </div>\n",
              "\n",
              "\n",
              "    <div id=\"df-cc785203-a389-438a-9d1e-5d5f6092afca\">\n",
              "      <button class=\"colab-df-quickchart\" onclick=\"quickchart('df-cc785203-a389-438a-9d1e-5d5f6092afca')\"\n",
              "                title=\"Suggest charts\"\n",
              "                style=\"display:none;\">\n",
              "\n",
              "<svg xmlns=\"http://www.w3.org/2000/svg\" height=\"24px\"viewBox=\"0 0 24 24\"\n",
              "     width=\"24px\">\n",
              "    <g>\n",
              "        <path d=\"M19 3H5c-1.1 0-2 .9-2 2v14c0 1.1.9 2 2 2h14c1.1 0 2-.9 2-2V5c0-1.1-.9-2-2-2zM9 17H7v-7h2v7zm4 0h-2V7h2v10zm4 0h-2v-4h2v4z\"/>\n",
              "    </g>\n",
              "</svg>\n",
              "      </button>\n",
              "\n",
              "<style>\n",
              "  .colab-df-quickchart {\n",
              "      --bg-color: #E8F0FE;\n",
              "      --fill-color: #1967D2;\n",
              "      --hover-bg-color: #E2EBFA;\n",
              "      --hover-fill-color: #174EA6;\n",
              "      --disabled-fill-color: #AAA;\n",
              "      --disabled-bg-color: #DDD;\n",
              "  }\n",
              "\n",
              "  [theme=dark] .colab-df-quickchart {\n",
              "      --bg-color: #3B4455;\n",
              "      --fill-color: #D2E3FC;\n",
              "      --hover-bg-color: #434B5C;\n",
              "      --hover-fill-color: #FFFFFF;\n",
              "      --disabled-bg-color: #3B4455;\n",
              "      --disabled-fill-color: #666;\n",
              "  }\n",
              "\n",
              "  .colab-df-quickchart {\n",
              "    background-color: var(--bg-color);\n",
              "    border: none;\n",
              "    border-radius: 50%;\n",
              "    cursor: pointer;\n",
              "    display: none;\n",
              "    fill: var(--fill-color);\n",
              "    height: 32px;\n",
              "    padding: 0;\n",
              "    width: 32px;\n",
              "  }\n",
              "\n",
              "  .colab-df-quickchart:hover {\n",
              "    background-color: var(--hover-bg-color);\n",
              "    box-shadow: 0 1px 2px rgba(60, 64, 67, 0.3), 0 1px 3px 1px rgba(60, 64, 67, 0.15);\n",
              "    fill: var(--button-hover-fill-color);\n",
              "  }\n",
              "\n",
              "  .colab-df-quickchart-complete:disabled,\n",
              "  .colab-df-quickchart-complete:disabled:hover {\n",
              "    background-color: var(--disabled-bg-color);\n",
              "    fill: var(--disabled-fill-color);\n",
              "    box-shadow: none;\n",
              "  }\n",
              "\n",
              "  .colab-df-spinner {\n",
              "    border: 2px solid var(--fill-color);\n",
              "    border-color: transparent;\n",
              "    border-bottom-color: var(--fill-color);\n",
              "    animation:\n",
              "      spin 1s steps(1) infinite;\n",
              "  }\n",
              "\n",
              "  @keyframes spin {\n",
              "    0% {\n",
              "      border-color: transparent;\n",
              "      border-bottom-color: var(--fill-color);\n",
              "      border-left-color: var(--fill-color);\n",
              "    }\n",
              "    20% {\n",
              "      border-color: transparent;\n",
              "      border-left-color: var(--fill-color);\n",
              "      border-top-color: var(--fill-color);\n",
              "    }\n",
              "    30% {\n",
              "      border-color: transparent;\n",
              "      border-left-color: var(--fill-color);\n",
              "      border-top-color: var(--fill-color);\n",
              "      border-right-color: var(--fill-color);\n",
              "    }\n",
              "    40% {\n",
              "      border-color: transparent;\n",
              "      border-right-color: var(--fill-color);\n",
              "      border-top-color: var(--fill-color);\n",
              "    }\n",
              "    60% {\n",
              "      border-color: transparent;\n",
              "      border-right-color: var(--fill-color);\n",
              "    }\n",
              "    80% {\n",
              "      border-color: transparent;\n",
              "      border-right-color: var(--fill-color);\n",
              "      border-bottom-color: var(--fill-color);\n",
              "    }\n",
              "    90% {\n",
              "      border-color: transparent;\n",
              "      border-bottom-color: var(--fill-color);\n",
              "    }\n",
              "  }\n",
              "</style>\n",
              "\n",
              "      <script>\n",
              "        async function quickchart(key) {\n",
              "          const quickchartButtonEl =\n",
              "            document.querySelector('#' + key + ' button');\n",
              "          quickchartButtonEl.disabled = true;  // To prevent multiple clicks.\n",
              "          quickchartButtonEl.classList.add('colab-df-spinner');\n",
              "          try {\n",
              "            const charts = await google.colab.kernel.invokeFunction(\n",
              "                'suggestCharts', [key], {});\n",
              "          } catch (error) {\n",
              "            console.error('Error during call to suggestCharts:', error);\n",
              "          }\n",
              "          quickchartButtonEl.classList.remove('colab-df-spinner');\n",
              "          quickchartButtonEl.classList.add('colab-df-quickchart-complete');\n",
              "        }\n",
              "        (() => {\n",
              "          let quickchartButtonEl =\n",
              "            document.querySelector('#df-cc785203-a389-438a-9d1e-5d5f6092afca button');\n",
              "          quickchartButtonEl.style.display =\n",
              "            google.colab.kernel.accessAllowed ? 'block' : 'none';\n",
              "        })();\n",
              "      </script>\n",
              "    </div>\n",
              "\n",
              "    </div>\n",
              "  </div>\n"
            ],
            "application/vnd.google.colaboratory.intrinsic+json": {
              "type": "dataframe",
              "summary": "{\n  \"name\": \"display(df_metrics[['precision', 'recall', 'f1-score', 'support']]\",\n  \"rows\": 3,\n  \"fields\": [\n    {\n      \"column\": \"precision\",\n      \"properties\": {\n        \"dtype\": \"number\",\n        \"std\": 0.041999999999999975,\n        \"min\": 0.795,\n        \"max\": 0.873,\n        \"num_unique_values\": 3,\n        \"samples\": [\n          0.795,\n          0.807,\n          0.873\n        ],\n        \"semantic_type\": \"\",\n        \"description\": \"\"\n      }\n    },\n    {\n      \"column\": \"recall\",\n      \"properties\": {\n        \"dtype\": \"number\",\n        \"std\": 0.06975910932153115,\n        \"min\": 0.771,\n        \"max\": 0.904,\n        \"num_unique_values\": 3,\n        \"samples\": [\n          0.801,\n          0.771,\n          0.904\n        ],\n        \"semantic_type\": \"\",\n        \"description\": \"\"\n      }\n    },\n    {\n      \"column\": \"f1-score\",\n      \"properties\": {\n        \"dtype\": \"number\",\n        \"std\": 0.05532027958473575,\n        \"min\": 0.789,\n        \"max\": 0.889,\n        \"num_unique_values\": 3,\n        \"samples\": [\n          0.798,\n          0.789,\n          0.889\n        ],\n        \"semantic_type\": \"\",\n        \"description\": \"\"\n      }\n    },\n    {\n      \"column\": \"support\",\n      \"properties\": {\n        \"dtype\": \"number\",\n        \"std\": 34.07345007480164,\n        \"min\": 5733.0,\n        \"max\": 5796.0,\n        \"num_unique_values\": 3,\n        \"samples\": [\n          5742.0,\n          5733.0,\n          5796.0\n        ],\n        \"semantic_type\": \"\",\n        \"description\": \"\"\n      }\n    }\n  ]\n}"
            }
          },
          "metadata": {}
        }
      ]
    },
    {
      "cell_type": "markdown",
      "source": [
        "# Class Distribution: Before vs. After SMOTE"
      ],
      "metadata": {
        "id": "rzuLVw1pEcHy"
      }
    },
    {
      "cell_type": "code",
      "source": [
        "import seaborn as sns\n",
        "import pandas as pd\n",
        "\n",
        "# Original\n",
        "orig_counts = pd.Series(y).value_counts().sort_index()\n",
        "smote_counts = pd.Series(y_resampled).value_counts().sort_index()\n",
        "\n",
        "fig, axes = plt.subplots(1, 2, figsize=(12, 5))\n",
        "sns.barplot(x=[label_map[i] for i in orig_counts.index], y=orig_counts.values, ax=axes[0])\n",
        "axes[0].set_title('Original Class Distribution')\n",
        "axes[0].set_ylabel('Count')\n",
        "axes[0].set_xticklabels(label_map.values(), rotation=20)\n",
        "\n",
        "sns.barplot(x=[label_map[i] for i in smote_counts.index], y=smote_counts.values, ax=axes[1])\n",
        "axes[1].set_title('After SMOTE')\n",
        "axes[1].set_ylabel('Count')\n",
        "axes[1].set_xticklabels(label_map.values(), rotation=20)\n",
        "\n",
        "plt.tight_layout()\n",
        "plt.show()\n"
      ],
      "metadata": {
        "colab": {
          "base_uri": "https://localhost:8080/",
          "height": 462
        },
        "id": "fs6DPQtJEYiz",
        "outputId": "21d6ef31-de51-40f4-95d5-052eacf697dd"
      },
      "execution_count": null,
      "outputs": [
        {
          "output_type": "stream",
          "name": "stderr",
          "text": [
            "<ipython-input-12-aced76eeaf7e>:12: UserWarning: set_ticklabels() should only be used with a fixed number of ticks, i.e. after set_ticks() or using a FixedLocator.\n",
            "  axes[0].set_xticklabels(label_map.values(), rotation=20)\n",
            "<ipython-input-12-aced76eeaf7e>:17: UserWarning: set_ticklabels() should only be used with a fixed number of ticks, i.e. after set_ticks() or using a FixedLocator.\n",
            "  axes[1].set_xticklabels(label_map.values(), rotation=20)\n"
          ]
        },
        {
          "output_type": "display_data",
          "data": {
            "text/plain": [
              "<Figure size 1200x500 with 2 Axes>"
            ],
            "image/png": "[encoded data removed]"
          },
          "metadata": {}
        }
      ]
    },
    {
      "cell_type": "markdown",
      "source": [
        "# Learning Curve (Logistic Regression)"
      ],
      "metadata": {
        "id": "KcWjbi3_Jpjc"
      }
    },
    {
      "cell_type": "code",
      "source": [
        "from sklearn.model_selection import learning_curve\n",
        "\n",
        "train_sizes, train_scores, val_scores = learning_curve(\n",
        "    clf, X_resampled, y_resampled, cv=5, scoring='f1_macro',\n",
        "    train_sizes=np.linspace(0.1, 1.0, 5), n_jobs=-1\n",
        ")\n",
        "\n",
        "train_mean = train_scores.mean(axis=1)\n",
        "val_mean = val_scores.mean(axis=1)\n",
        "\n",
        "plt.plot(train_sizes, train_mean, label=\"Training F1\", marker='o')\n",
        "plt.plot(train_sizes, val_mean, label=\"Validation F1\", marker='o')\n",
        "plt.title(\"Learning Curve (F1 Macro)\")\n",
        "plt.xlabel(\"Training Set Size\")\n",
        "plt.ylabel(\"F1 Score\")\n",
        "plt.legend()\n",
        "plt.grid(True)\n",
        "plt.show()\n"
      ],
      "metadata": {
        "colab": {
          "base_uri": "https://localhost:8080/",
          "height": 356
        },
        "id": "svfG-CanEe1S",
        "outputId": "7a4e0c94-8ba1-4e5e-d7b2-5ac3c9e4bb82"
      },
      "execution_count": null,
      "outputs": [
        {
          "output_type": "error",
          "ename": "KeyboardInterrupt",
          "evalue": "",
          "traceback": [
            "\u001b[0;31m---------------------------------------------------------------------------\u001b[0m",
            "\u001b[0;31mKeyboardInterrupt\u001b[0m                         Traceback (most recent call last)",
            "\u001b[0;32m<ipython-input-13-028d01cfe9df>\u001b[0m in \u001b[0;36m<cell line: 0>\u001b[0;34m()\u001b[0m\n\u001b[1;32m      1\u001b[0m \u001b[0;32mfrom\u001b[0m \u001b[0msklearn\u001b[0m\u001b[0;34m.\u001b[0m\u001b[0mmodel_selection\u001b[0m \u001b[0;32mimport\u001b[0m \u001b[0mlearning_curve\u001b[0m\u001b[0;34m\u001b[0m\u001b[0;34m\u001b[0m\u001b[0m\n\u001b[1;32m      2\u001b[0m \u001b[0;34m\u001b[0m\u001b[0m\n\u001b[0;32m----> 3\u001b[0;31m train_sizes, train_scores, val_scores = learning_curve(\n\u001b[0m\u001b[1;32m      4\u001b[0m     \u001b[0mclf\u001b[0m\u001b[0;34m,\u001b[0m \u001b[0mX_resampled\u001b[0m\u001b[0;34m,\u001b[0m \u001b[0my_resampled\u001b[0m\u001b[0;34m,\u001b[0m \u001b[0mcv\u001b[0m\u001b[0;34m=\u001b[0m\u001b[0;36m5\u001b[0m\u001b[0;34m,\u001b[0m \u001b[0mscoring\u001b[0m\u001b[0;34m=\u001b[0m\u001b[0;34m'f1_macro'\u001b[0m\u001b[0;34m,\u001b[0m\u001b[0;34m\u001b[0m\u001b[0;34m\u001b[0m\u001b[0m\n\u001b[1;32m      5\u001b[0m     \u001b[0mtrain_sizes\u001b[0m\u001b[0;34m=\u001b[0m\u001b[0mnp\u001b[0m\u001b[0;34m.\u001b[0m\u001b[0mlinspace\u001b[0m\u001b[0;34m(\u001b[0m\u001b[0;36m0.1\u001b[0m\u001b[0;34m,\u001b[0m \u001b[0;36m1.0\u001b[0m\u001b[0;34m,\u001b[0m \u001b[0;36m5\u001b[0m\u001b[0;34m)\u001b[0m\u001b[0;34m,\u001b[0m \u001b[0mn_jobs\u001b[0m\u001b[0;34m=\u001b[0m\u001b[0;34m-\u001b[0m\u001b[0;36m1\u001b[0m\u001b[0;34m\u001b[0m\u001b[0;34m\u001b[0m\u001b[0m\n",
            "\u001b[0;32m/usr/local/lib/python3.11/dist-packages/sklearn/utils/_param_validation.py\u001b[0m in \u001b[0;36mwrapper\u001b[0;34m(*args, **kwargs)\u001b[0m\n\u001b[1;32m    214\u001b[0m                     )\n\u001b[1;32m    215\u001b[0m                 ):\n\u001b[0;32m--> 216\u001b[0;31m                     \u001b[0;32mreturn\u001b[0m \u001b[0mfunc\u001b[0m\u001b[0;34m(\u001b[0m\u001b[0;34m*\u001b[0m\u001b[0margs\u001b[0m\u001b[0;34m,\u001b[0m \u001b[0;34m**\u001b[0m\u001b[0mkwargs\u001b[0m\u001b[0;34m)\u001b[0m\u001b[0;34m\u001b[0m\u001b[0;34m\u001b[0m\u001b[0m\n\u001b[0m\u001b[1;32m    217\u001b[0m             \u001b[0;32mexcept\u001b[0m \u001b[0mInvalidParameterError\u001b[0m \u001b[0;32mas\u001b[0m \u001b[0me\u001b[0m\u001b[0;34m:\u001b[0m\u001b[0;34m\u001b[0m\u001b[0;34m\u001b[0m\u001b[0m\n\u001b[1;32m    218\u001b[0m                 \u001b[0;31m# When the function is just a wrapper around an estimator, we allow\u001b[0m\u001b[0;34m\u001b[0m\u001b[0;34m\u001b[0m\u001b[0m\n",
            "\u001b[0;32m/usr/local/lib/python3.11/dist-packages/sklearn/model_selection/_validation.py\u001b[0m in \u001b[0;36mlearning_curve\u001b[0;34m(estimator, X, y, groups, train_sizes, cv, scoring, exploit_incremental_learning, n_jobs, pre_dispatch, verbose, shuffle, random_state, error_score, return_times, fit_params, params)\u001b[0m\n\u001b[1;32m   2083\u001b[0m                 \u001b[0mtrain_test_proportions\u001b[0m\u001b[0;34m.\u001b[0m\u001b[0mappend\u001b[0m\u001b[0;34m(\u001b[0m\u001b[0;34m(\u001b[0m\u001b[0mtrain\u001b[0m\u001b[0;34m[\u001b[0m\u001b[0;34m:\u001b[0m\u001b[0mn_train_samples\u001b[0m\u001b[0;34m]\u001b[0m\u001b[0;34m,\u001b[0m \u001b[0mtest\u001b[0m\u001b[0;34m)\u001b[0m\u001b[0;34m)\u001b[0m\u001b[0;34m\u001b[0m\u001b[0;34m\u001b[0m\u001b[0m\n\u001b[1;32m   2084\u001b[0m \u001b[0;34m\u001b[0m\u001b[0m\n\u001b[0;32m-> 2085\u001b[0;31m         results = parallel(\n\u001b[0m\u001b[1;32m   2086\u001b[0m             delayed(_fit_and_score)(\n\u001b[1;32m   2087\u001b[0m                 \u001b[0mclone\u001b[0m\u001b[0;34m(\u001b[0m\u001b[0mestimator\u001b[0m\u001b[0;34m)\u001b[0m\u001b[0;34m,\u001b[0m\u001b[0;34m\u001b[0m\u001b[0;34m\u001b[0m\u001b[0m\n",
            "\u001b[0;32m/usr/local/lib/python3.11/dist-packages/sklearn/utils/parallel.py\u001b[0m in \u001b[0;36m__call__\u001b[0;34m(self, iterable)\u001b[0m\n\u001b[1;32m     75\u001b[0m             \u001b[0;32mfor\u001b[0m \u001b[0mdelayed_func\u001b[0m\u001b[0;34m,\u001b[0m \u001b[0margs\u001b[0m\u001b[0;34m,\u001b[0m \u001b[0mkwargs\u001b[0m \u001b[0;32min\u001b[0m \u001b[0miterable\u001b[0m\u001b[0;34m\u001b[0m\u001b[0;34m\u001b[0m\u001b[0m\n\u001b[1;32m     76\u001b[0m         )\n\u001b[0;32m---> 77\u001b[0;31m         \u001b[0;32mreturn\u001b[0m \u001b[0msuper\u001b[0m\u001b[0;34m(\u001b[0m\u001b[0;34m)\u001b[0m\u001b[0;34m.\u001b[0m\u001b[0m__call__\u001b[0m\u001b[0;34m(\u001b[0m\u001b[0miterable_with_config\u001b[0m\u001b[0;34m)\u001b[0m\u001b[0;34m\u001b[0m\u001b[0;34m\u001b[0m\u001b[0m\n\u001b[0m\u001b[1;32m     78\u001b[0m \u001b[0;34m\u001b[0m\u001b[0m\n\u001b[1;32m     79\u001b[0m \u001b[0;34m\u001b[0m\u001b[0m\n",
            "\u001b[0;32m/usr/local/lib/python3.11/dist-packages/joblib/parallel.py\u001b[0m in \u001b[0;36m__call__\u001b[0;34m(self, iterable)\u001b[0m\n\u001b[1;32m   2069\u001b[0m         \u001b[0mnext\u001b[0m\u001b[0;34m(\u001b[0m\u001b[0moutput\u001b[0m\u001b[0;34m)\u001b[0m\u001b[0;34m\u001b[0m\u001b[0;34m\u001b[0m\u001b[0m\n\u001b[1;32m   2070\u001b[0m \u001b[0;34m\u001b[0m\u001b[0m\n\u001b[0;32m-> 2071\u001b[0;31m         \u001b[0;32mreturn\u001b[0m \u001b[0moutput\u001b[0m \u001b[0;32mif\u001b[0m \u001b[0mself\u001b[0m\u001b[0;34m.\u001b[0m\u001b[0mreturn_generator\u001b[0m \u001b[0;32melse\u001b[0m \u001b[0mlist\u001b[0m\u001b[0;34m(\u001b[0m\u001b[0moutput\u001b[0m\u001b[0;34m)\u001b[0m\u001b[0;34m\u001b[0m\u001b[0;34m\u001b[0m\u001b[0m\n\u001b[0m\u001b[1;32m   2072\u001b[0m \u001b[0;34m\u001b[0m\u001b[0m\n\u001b[1;32m   2073\u001b[0m     \u001b[0;32mdef\u001b[0m \u001b[0m__repr__\u001b[0m\u001b[0;34m(\u001b[0m\u001b[0mself\u001b[0m\u001b[0;34m)\u001b[0m\u001b[0;34m:\u001b[0m\u001b[0;34m\u001b[0m\u001b[0;34m\u001b[0m\u001b[0m\n",
            "\u001b[0;32m/usr/local/lib/python3.11/dist-packages/joblib/parallel.py\u001b[0m in \u001b[0;36m_get_outputs\u001b[0;34m(self, iterator, pre_dispatch)\u001b[0m\n\u001b[1;32m   1679\u001b[0m \u001b[0;34m\u001b[0m\u001b[0m\n\u001b[1;32m   1680\u001b[0m             \u001b[0;32mwith\u001b[0m \u001b[0mself\u001b[0m\u001b[0;34m.\u001b[0m\u001b[0m_backend\u001b[0m\u001b[0;34m.\u001b[0m\u001b[0mretrieval_context\u001b[0m\u001b[0;34m(\u001b[0m\u001b[0;34m)\u001b[0m\u001b[0;34m:\u001b[0m\u001b[0;34m\u001b[0m\u001b[0;34m\u001b[0m\u001b[0m\n\u001b[0;32m-> 1681\u001b[0;31m                 \u001b[0;32myield\u001b[0m \u001b[0;32mfrom\u001b[0m \u001b[0mself\u001b[0m\u001b[0;34m.\u001b[0m\u001b[0m_retrieve\u001b[0m\u001b[0;34m(\u001b[0m\u001b[0;34m)\u001b[0m\u001b[0;34m\u001b[0m\u001b[0;34m\u001b[0m\u001b[0m\n\u001b[0m\u001b[1;32m   1682\u001b[0m \u001b[0;34m\u001b[0m\u001b[0m\n\u001b[1;32m   1683\u001b[0m         \u001b[0;32mexcept\u001b[0m \u001b[0mGeneratorExit\u001b[0m\u001b[0;34m:\u001b[0m\u001b[0;34m\u001b[0m\u001b[0;34m\u001b[0m\u001b[0m\n",
            "\u001b[0;32m/usr/local/lib/python3.11/dist-packages/joblib/parallel.py\u001b[0m in \u001b[0;36m_retrieve\u001b[0;34m(self)\u001b[0m\n\u001b[1;32m   1797\u001b[0m                     \u001b[0mself\u001b[0m\u001b[0;34m.\u001b[0m\u001b[0m_jobs\u001b[0m\u001b[0;34m[\u001b[0m\u001b[0;36m0\u001b[0m\u001b[0;34m]\u001b[0m\u001b[0;34m.\u001b[0m\u001b[0mget_status\u001b[0m\u001b[0;34m(\u001b[0m\u001b[0mtimeout\u001b[0m\u001b[0;34m=\u001b[0m\u001b[0mself\u001b[0m\u001b[0;34m.\u001b[0m\u001b[0mtimeout\u001b[0m\u001b[0;34m)\u001b[0m \u001b[0;34m==\u001b[0m \u001b[0mTASK_PENDING\u001b[0m\u001b[0;34m\u001b[0m\u001b[0;34m\u001b[0m\u001b[0m\n\u001b[1;32m   1798\u001b[0m                 ):\n\u001b[0;32m-> 1799\u001b[0;31m                     \u001b[0mtime\u001b[0m\u001b[0;34m.\u001b[0m\u001b[0msleep\u001b[0m\u001b[0;34m(\u001b[0m\u001b[0;36m0.01\u001b[0m\u001b[0;34m)\u001b[0m\u001b[0;34m\u001b[0m\u001b[0;34m\u001b[0m\u001b[0m\n\u001b[0m\u001b[1;32m   1800\u001b[0m                     \u001b[0;32mcontinue\u001b[0m\u001b[0;34m\u001b[0m\u001b[0;34m\u001b[0m\u001b[0m\n\u001b[1;32m   1801\u001b[0m \u001b[0;34m\u001b[0m\u001b[0m\n",
            "\u001b[0;31mKeyboardInterrupt\u001b[0m: "
          ]
        }
      ]
    },
    {
      "cell_type": "code",
      "source": [
        "from sklearn.utils.class_weight import compute_class_weight\n",
        "from sklearn.linear_model import LogisticRegression\n",
        "from sklearn.model_selection import train_test_split\n",
        "from sklearn.metrics import classification_report\n",
        "import numpy as np\n",
        "\n",
        "# 1) Use *imbalanced* labels here ‑‑ NO SMOTE\n",
        "y = np.array(all_labels)          # labels gathered while embedding\n",
        "X = np.vstack(sentence_embeddings)\n",
        "\n",
        "# 2) class weights (balanced = inverse‑frequency)\n",
        "weights = compute_class_weight('balanced', classes=np.unique(y), y=y)\n",
        "weight_dict = {cls: w for cls, w in zip(np.unique(y), weights)}\n",
        "print(\"Weights:\", weight_dict)\n",
        "\n",
        "# 3) split & train\n",
        "X_train, X_val, y_train, y_val = train_test_split(\n",
        "        X, y, test_size=0.3, random_state=42, stratify=y)\n",
        "\n",
        "clf = LogisticRegression(\n",
        "        max_iter=1000,\n",
        "        class_weight=weight_dict,\n",
        "        solver='lbfgs',           # or 'saga' if you use L1 penalty\n",
        "        n_jobs=-1\n",
        ")\n",
        "clf.fit(X_train, y_train)\n",
        "\n",
        "# 4) evaluate\n",
        "print(classification_report(y_val, clf.predict(X_val),\n",
        "                            target_names=list(label_map.values())))\n"
      ],
      "metadata": {
        "colab": {
          "base_uri": "https://localhost:8080/"
        },
        "id": "xrxedupqLRj6",
        "outputId": "d9504546-2091-4713-f8cd-5e22b567f4fe"
      },
      "execution_count": null,
      "outputs": [
        {
          "output_type": "stream",
          "name": "stdout",
          "text": [
            "Weights: {np.int64(0): np.float64(5.776923076923077), np.int64(1): np.float64(0.43048462741010945), np.int64(2): np.float64(1.9843862599087196)}\n",
            "                    precision    recall  f1-score   support\n",
            "\n",
            "       Hate Speech       0.20      0.57      0.29       429\n",
            "Offensive Language       0.96      0.77      0.85      5757\n",
            "           Neither       0.66      0.84      0.74      1249\n",
            "\n",
            "          accuracy                           0.77      7435\n",
            "         macro avg       0.61      0.72      0.63      7435\n",
            "      weighted avg       0.87      0.77      0.80      7435\n",
            "\n"
          ]
        }
      ]
    },
    {
      "cell_type": "code",
      "source": [
        "from sklearn.preprocessing import StandardScaler\n",
        "from sklearn.pipeline import make_pipeline\n",
        "from sklearn.svm import SVC              # or LinearSVC for huge datasets\n",
        "from sklearn.utils.class_weight import compute_class_weight\n",
        "from sklearn.model_selection import train_test_split\n",
        "from sklearn.metrics import classification_report\n",
        "import numpy as np\n",
        "\n",
        "# balanced class weights  (0 = non‑hate, 1 = hate, 2 = offensive, etc.)\n",
        "classes   = np.unique(y)\n",
        "cw        = compute_class_weight('balanced', classes=classes, y=y)\n",
        "cw_dict   = {c:w for c, w in zip(classes, cw)}\n",
        "\n",
        "# train/val split (stratified)\n",
        "X_train, X_val, y_train, y_val = train_test_split(\n",
        "        X, y, test_size=0.3, random_state=42, stratify=y)\n",
        "\n",
        "# RBF‑kernel SVC with scaling + class weights\n",
        "svm_clf = make_pipeline(\n",
        "            StandardScaler(with_mean=False),      # sparse‑safe\n",
        "            SVC(kernel='rbf',\n",
        "                class_weight=cw_dict,\n",
        "                C=5.0, gamma='scale', probability=False)\n",
        ")\n",
        "svm_clf.fit(X_train, y_train)\n",
        "\n",
        "y_pred = svm_clf.predict(X_val)\n",
        "print(classification_report(y_val, y_pred, target_names=list(label_map.values())))\n"
      ],
      "metadata": {
        "colab": {
          "base_uri": "https://localhost:8080/"
        },
        "id": "nzGU0RPGO3rW",
        "outputId": "d30ccac9-0039-44f7-a01f-ac740fb83e90"
      },
      "execution_count": null,
      "outputs": [
        {
          "output_type": "stream",
          "name": "stdout",
          "text": [
            "                    precision    recall  f1-score   support\n",
            "\n",
            "       Hate Speech       0.23      0.54      0.32       429\n",
            "Offensive Language       0.96      0.80      0.87      5757\n",
            "           Neither       0.67      0.87      0.76      1249\n",
            "\n",
            "          accuracy                           0.80      7435\n",
            "         macro avg       0.62      0.74      0.65      7435\n",
            "      weighted avg       0.87      0.80      0.82      7435\n",
            "\n"
          ]
        }
      ]
    },
    {
      "cell_type": "code",
      "source": [
        "import torch, torch.nn as nn, torch.optim as optim\n",
        "from torch.utils.data import TensorDataset, DataLoader\n",
        "from sklearn.utils.class_weight import compute_class_weight\n",
        "import numpy as np\n",
        "\n",
        "device = torch.device('cuda' if torch.cuda.is_available() else 'cpu')\n",
        "\n",
        "# ------------------------------------------------------------------\n",
        "# 1.  Torch tensors\n",
        "# ------------------------------------------------------------------\n",
        "X_tensor = torch.tensor(X, dtype=torch.float32)\n",
        "y_tensor = torch.tensor(y, dtype=torch.long)\n",
        "\n",
        "# split indices\n",
        "from sklearn.model_selection import train_test_split\n",
        "train_idx, val_idx = train_test_split(\n",
        "        np.arange(len(y)), test_size=0.3,\n",
        "        stratify=y, random_state=42)\n",
        "\n",
        "train_ds = TensorDataset(X_tensor[train_idx], y_tensor[train_idx])\n",
        "val_ds   = TensorDataset(X_tensor[val_idx],   y_tensor[val_idx])\n",
        "\n",
        "train_loader = DataLoader(train_ds, batch_size=64, shuffle=True)\n",
        "val_loader   = DataLoader(val_ds,   batch_size=128)\n",
        "\n",
        "# ------------------------------------------------------------------\n",
        "# 2.  MLP definition\n",
        "# ------------------------------------------------------------------\n",
        "class MLP(nn.Module):\n",
        "    def __init__(self, in_dim=768, hidden=256, n_classes=3, dropout=0.3):\n",
        "        super().__init__()\n",
        "        self.net = nn.Sequential(\n",
        "            nn.Linear(in_dim, hidden),\n",
        "            nn.ReLU(),\n",
        "            nn.Dropout(dropout),\n",
        "            nn.Linear(hidden, n_classes)\n",
        "        )\n",
        "    def forward(self, x):\n",
        "        return self.net(x)\n",
        "\n",
        "model = MLP(in_dim=X.shape[1],\n",
        "            n_classes=len(np.unique(y))).to(device)\n",
        "\n",
        "# ------------------------------------------------------------------\n",
        "# 3.  Weighted Cross‑Entropy\n",
        "# ------------------------------------------------------------------\n",
        "class_weights = compute_class_weight('balanced',\n",
        "                                     classes=np.unique(y),\n",
        "                                     y=y)\n",
        "class_weights = torch.tensor(class_weights,\n",
        "                             dtype=torch.float32).to(device)\n",
        "\n",
        "criterion = nn.CrossEntropyLoss(weight=class_weights)\n",
        "optimizer = optim.AdamW(model.parameters(), lr=1e-3)\n",
        "epochs    = 20\n",
        "\n",
        "# ------------------------------------------------------------------\n",
        "# 4.  Training loop\n",
        "# ------------------------------------------------------------------\n",
        "for epoch in range(1, epochs+1):\n",
        "    model.train()\n",
        "    running_loss = 0\n",
        "    for xb, yb in train_loader:\n",
        "        xb, yb = xb.to(device), yb.to(device)\n",
        "\n",
        "        optimizer.zero_grad()\n",
        "        logits = model(xb)\n",
        "        loss   = criterion(logits, yb)\n",
        "        loss.backward()\n",
        "        optimizer.step()\n",
        "        running_loss += loss.item() * xb.size(0)\n",
        "\n",
        "    # ---- validation ----\n",
        "    model.eval()\n",
        "    correct, total = 0, 0\n",
        "    with torch.no_grad():\n",
        "        for xb, yb in val_loader:\n",
        "            xb, yb = xb.to(device), yb.to(device)\n",
        "            preds  = torch.argmax(model(xb), dim=1)\n",
        "            correct += (preds == yb).sum().item()\n",
        "            total   += yb.size(0)\n",
        "    acc = correct / total\n",
        "    print(f\"Epoch {epoch:02d} | loss {running_loss/len(train_ds):.4f} | val‑acc {acc:.3f}\")\n",
        "\n",
        "# detailed report\n",
        "from sklearn.metrics import classification_report\n",
        "model.eval()\n",
        "with torch.no_grad():\n",
        "    y_pred = torch.argmax(model(X_tensor.to(device)), dim=1).cpu().numpy()\n",
        "print(classification_report(y, y_pred, target_names=list(label_map.values())))\n"
      ],
      "metadata": {
        "colab": {
          "base_uri": "https://localhost:8080/"
        },
        "id": "95eGK9xYP7ay",
        "outputId": "0af3e488-7891-4bc1-81c1-65eb7d244f3f"
      },
      "execution_count": null,
      "outputs": [
        {
          "output_type": "stream",
          "name": "stdout",
          "text": [
            "Epoch 01 | loss 0.8322 | val‑acc 0.790\n",
            "Epoch 02 | loss 0.7249 | val‑acc 0.631\n",
            "Epoch 03 | loss 0.6890 | val‑acc 0.788\n",
            "Epoch 04 | loss 0.6633 | val‑acc 0.767\n",
            "Epoch 05 | loss 0.6520 | val‑acc 0.782\n",
            "Epoch 06 | loss 0.6461 | val‑acc 0.808\n",
            "Epoch 07 | loss 0.6199 | val‑acc 0.725\n",
            "Epoch 08 | loss 0.6124 | val‑acc 0.802\n",
            "Epoch 09 | loss 0.5977 | val‑acc 0.825\n",
            "Epoch 10 | loss 0.5974 | val‑acc 0.784\n",
            "Epoch 11 | loss 0.5828 | val‑acc 0.794\n",
            "Epoch 12 | loss 0.5731 | val‑acc 0.762\n",
            "Epoch 13 | loss 0.5677 | val‑acc 0.751\n",
            "Epoch 14 | loss 0.5612 | val‑acc 0.742\n",
            "Epoch 15 | loss 0.5510 | val‑acc 0.712\n",
            "Epoch 16 | loss 0.5451 | val‑acc 0.623\n",
            "Epoch 17 | loss 0.5469 | val‑acc 0.712\n",
            "Epoch 18 | loss 0.5343 | val‑acc 0.815\n",
            "Epoch 19 | loss 0.5353 | val‑acc 0.770\n",
            "Epoch 20 | loss 0.5202 | val‑acc 0.810\n",
            "                    precision    recall  f1-score   support\n",
            "\n",
            "       Hate Speech       0.32      0.60      0.42      1430\n",
            "Offensive Language       0.96      0.83      0.89     19190\n",
            "           Neither       0.67      0.91      0.77      4163\n",
            "\n",
            "          accuracy                           0.83     24783\n",
            "         macro avg       0.65      0.78      0.69     24783\n",
            "      weighted avg       0.88      0.83      0.84     24783\n",
            "\n"
          ]
        }
      ]
    },
    {
      "cell_type": "code",
      "source": [
        "import torch, torch.nn as nn, torch.optim as optim\n",
        "from torch.utils.data import TensorDataset, DataLoader\n",
        "from sklearn.model_selection import train_test_split\n",
        "from sklearn.metrics import classification_report\n",
        "import numpy as np\n",
        "\n",
        "device = torch.device('cuda' if torch.cuda.is_available() else 'cpu')\n",
        "\n",
        "# numpy → torch\n",
        "X_tensor = torch.tensor(X_resampled, dtype=torch.float32)\n",
        "y_tensor = torch.tensor(y_resampled, dtype=torch.long)\n",
        "\n",
        "train_idx, val_idx = train_test_split(\n",
        "        np.arange(len(y_tensor)),\n",
        "        test_size=0.2,\n",
        "        random_state=42,\n",
        "        stratify=y_tensor.numpy())\n",
        "\n",
        "train_ds = TensorDataset(X_tensor[train_idx], y_tensor[train_idx])\n",
        "val_ds   = TensorDataset(X_tensor[val_idx],   y_tensor[val_idx])\n",
        "\n",
        "train_loader = DataLoader(train_ds, batch_size=64, shuffle=True)\n",
        "val_loader   = DataLoader(val_ds,   batch_size=128)\n",
        "\n",
        "class MLP(nn.Module):\n",
        "    def __init__(self, in_dim=768, hidden=256, n_classes=3, dropout=0.3):\n",
        "        super().__init__()\n",
        "        self.net = nn.Sequential(\n",
        "            nn.Linear(in_dim, hidden),\n",
        "            nn.ReLU(),\n",
        "            nn.Dropout(dropout),\n",
        "            nn.Linear(hidden, n_classes)\n",
        "        )\n",
        "    def forward(self, x):\n",
        "        return self.net(x)\n",
        "\n",
        "model = MLP(in_dim=X_tensor.shape[1],\n",
        "            n_classes=len(np.unique(y_tensor))).to(device)\n",
        "\n",
        "criterion = nn.CrossEntropyLoss()\n",
        "optimizer = optim.AdamW(model.parameters(), lr=1e-3, weight_decay=1e-2)\n",
        "epochs    = 25\n",
        "\n",
        "for epoch in range(1, epochs + 1):\n",
        "    # ---- train ----\n",
        "    model.train()\n",
        "    running = 0.0\n",
        "    for xb, yb in train_loader:\n",
        "        xb, yb = xb.to(device), yb.to(device)\n",
        "        optimizer.zero_grad()\n",
        "        logits = model(xb)\n",
        "        loss   = criterion(logits, yb)\n",
        "        loss.backward()\n",
        "        optimizer.step()\n",
        "        running += loss.item() * xb.size(0)\n",
        "    train_loss = running / len(train_ds)\n",
        "\n",
        "    # ---- validation ----\n",
        "    model.eval()\n",
        "    correct, total = 0, 0\n",
        "    val_preds, val_tgts = [], []\n",
        "    with torch.no_grad():\n",
        "        for xb, yb in val_loader:\n",
        "            xb, yb = xb.to(device), yb.to(device)\n",
        "            preds  = torch.argmax(model(xb), 1)\n",
        "            correct += (preds == yb).sum().item()\n",
        "            total   += yb.size(0)\n",
        "            val_preds.extend(preds.cpu().numpy())\n",
        "            val_tgts.extend(yb.cpu().numpy())\n",
        "    val_acc = correct / total\n",
        "    print(f\"Epoch {epoch:02d} | loss {train_loss:.4f} | val‑acc {val_acc:.3f}\")\n",
        "print(classification_report(val_tgts, val_preds,\n",
        "      target_names=list(label_map.values())))\n"
      ],
      "metadata": {
        "colab": {
          "base_uri": "https://localhost:8080/"
        },
        "id": "m2p3itvSP9p7",
        "outputId": "62c0d166-27dc-41b7-e391-82e96372ab87"
      },
      "execution_count": null,
      "outputs": [
        {
          "output_type": "stream",
          "name": "stdout",
          "text": [
            "Epoch 01 | loss 0.6563 | val‑acc 0.773\n",
            "Epoch 02 | loss 0.5408 | val‑acc 0.798\n",
            "Epoch 03 | loss 0.5025 | val‑acc 0.812\n",
            "Epoch 04 | loss 0.4673 | val‑acc 0.810\n",
            "Epoch 05 | loss 0.4335 | val‑acc 0.842\n",
            "Epoch 06 | loss 0.4047 | val‑acc 0.860\n",
            "Epoch 07 | loss 0.3770 | val‑acc 0.869\n",
            "Epoch 08 | loss 0.3545 | val‑acc 0.877\n",
            "Epoch 09 | loss 0.3329 | val‑acc 0.879\n",
            "Epoch 10 | loss 0.3151 | val‑acc 0.876\n",
            "Epoch 11 | loss 0.2995 | val‑acc 0.894\n",
            "Epoch 12 | loss 0.2799 | val‑acc 0.901\n",
            "Epoch 13 | loss 0.2661 | val‑acc 0.906\n",
            "Epoch 14 | loss 0.2549 | val‑acc 0.915\n",
            "Epoch 15 | loss 0.2457 | val‑acc 0.914\n",
            "Epoch 16 | loss 0.2358 | val‑acc 0.918\n",
            "Epoch 17 | loss 0.2256 | val‑acc 0.922\n",
            "Epoch 18 | loss 0.2165 | val‑acc 0.924\n",
            "Epoch 19 | loss 0.2075 | val‑acc 0.933\n",
            "Epoch 20 | loss 0.1978 | val‑acc 0.930\n",
            "Epoch 21 | loss 0.1922 | val‑acc 0.931\n",
            "Epoch 22 | loss 0.1866 | val‑acc 0.931\n",
            "Epoch 23 | loss 0.1856 | val‑acc 0.928\n",
            "Epoch 24 | loss 0.1733 | val‑acc 0.937\n",
            "Epoch 25 | loss 0.1699 | val‑acc 0.933\n",
            "                    precision    recall  f1-score   support\n",
            "\n",
            "       Hate Speech       0.90      0.99      0.95      3838\n",
            "Offensive Language       0.96      0.84      0.90      3838\n",
            "           Neither       0.94      0.96      0.95      3838\n",
            "\n",
            "          accuracy                           0.93     11514\n",
            "         macro avg       0.93      0.93      0.93     11514\n",
            "      weighted avg       0.93      0.93      0.93     11514\n",
            "\n"
          ]
        }
      ]
    },
    {
      "cell_type": "code",
      "source": [
        "import torch, torch.nn as nn, torch.optim as optim\n",
        "from torch.utils.data import TensorDataset, DataLoader\n",
        "from sklearn.model_selection import train_test_split\n",
        "from sklearn.metrics import classification_report\n",
        "import numpy as np\n",
        "\n",
        "device = torch.device('cuda' if torch.cuda.is_available() else 'cpu')\n",
        "\n",
        "# --- tensors from your SMOTE step --------------------------------------\n",
        "X_tensor = torch.tensor(X_resampled, dtype=torch.float32)\n",
        "y_tensor = torch.tensor(y_resampled, dtype=torch.long)\n",
        "\n",
        "# --- stratified split ---------------------------------------------------\n",
        "train_idx, val_idx = train_test_split(\n",
        "        np.arange(len(y_tensor)),\n",
        "        test_size=0.2,\n",
        "        random_state=42,\n",
        "        stratify=y_tensor.numpy())\n",
        "\n",
        "train_loader = DataLoader(TensorDataset(X_tensor[train_idx], y_tensor[train_idx]),\n",
        "                          batch_size=64, shuffle=True)\n",
        "val_loader   = DataLoader(TensorDataset(X_tensor[val_idx],   y_tensor[val_idx]),\n",
        "                          batch_size=128)\n",
        "\n",
        "# --- simple fully‑connected network ------------------------------------\n",
        "class MLP(nn.Module):\n",
        "    def __init__(self, in_dim=768, hidden=256, n_classes=3, dropout=0.3):\n",
        "        super().__init__()\n",
        "        self.net = nn.Sequential(\n",
        "            nn.Linear(in_dim, hidden),\n",
        "            nn.ReLU(),\n",
        "            nn.Dropout(dropout),\n",
        "            nn.Linear(hidden, n_classes)\n",
        "        )\n",
        "    def forward(self, x):\n",
        "        return self.net(x)\n",
        "\n",
        "model = MLP(in_dim=X_tensor.shape[1],\n",
        "            n_classes=len(np.unique(y_tensor))).to(device)\n",
        "\n",
        "# --- Cross‑Entropy with label smoothing --------------------------------\n",
        "criterion  = nn.CrossEntropyLoss(label_smoothing=0.1)   # ε = 0.1\n",
        "optimizer  = optim.AdamW(model.parameters(), lr=1e-3, weight_decay=1e-2)\n",
        "epochs = 25\n",
        "\n",
        "# --- training loop ------------------------------------------------------\n",
        "for epoch in range(1, epochs + 1):\n",
        "    model.train()\n",
        "    epoch_loss = 0.0\n",
        "    for xb, yb in train_loader:\n",
        "        xb, yb = xb.to(device), yb.to(device)\n",
        "        optimizer.zero_grad()\n",
        "        logits = model(xb)\n",
        "        loss   = criterion(logits, yb)\n",
        "        loss.backward()\n",
        "        optimizer.step()\n",
        "        epoch_loss += loss.item() * xb.size(0)\n",
        "\n",
        "    # validation\n",
        "    model.eval()\n",
        "    correct, total = 0, 0\n",
        "    val_preds, val_tgts = [], []\n",
        "    with torch.no_grad():\n",
        "        for xb, yb in val_loader:\n",
        "            xb, yb = xb.to(device), yb.to(device)\n",
        "            preds  = torch.argmax(model(xb), 1)\n",
        "            correct += (preds == yb).sum().item()\n",
        "            total   += yb.size(0)\n",
        "            val_preds.extend(preds.cpu().numpy())\n",
        "            val_tgts.extend(yb.cpu().numpy())\n",
        "    val_acc = correct / total\n",
        "    print(f\"Epoch {epoch:02d} | train‑loss {epoch_loss/len(train_loader.dataset):.4f} | val‑acc {val_acc:.3f}\")\n",
        "\n",
        "# --- detailed report ----------------------------------------------------\n",
        "print(classification_report(val_tgts, val_preds, target_names=list(label_map.values())))\n"
      ],
      "metadata": {
        "colab": {
          "base_uri": "https://localhost:8080/"
        },
        "id": "6Y1HKU73RFZu",
        "outputId": "15c71952-ff4d-4ab5-b2b2-83ae2dfad630"
      },
      "execution_count": null,
      "outputs": [
        {
          "output_type": "stream",
          "name": "stdout",
          "text": [
            "Epoch 01 | train‑loss 0.7575 | val‑acc 0.765\n",
            "Epoch 02 | train‑loss 0.6798 | val‑acc 0.796\n",
            "Epoch 03 | train‑loss 0.6520 | val‑acc 0.818\n",
            "Epoch 04 | train‑loss 0.6290 | val‑acc 0.811\n",
            "Epoch 05 | train‑loss 0.6099 | val‑acc 0.843\n",
            "Epoch 06 | train‑loss 0.5905 | val‑acc 0.861\n",
            "Epoch 07 | train‑loss 0.5771 | val‑acc 0.869\n",
            "Epoch 08 | train‑loss 0.5629 | val‑acc 0.874\n",
            "Epoch 09 | train‑loss 0.5476 | val‑acc 0.890\n",
            "Epoch 10 | train‑loss 0.5399 | val‑acc 0.895\n",
            "Epoch 11 | train‑loss 0.5289 | val‑acc 0.890\n",
            "Epoch 12 | train‑loss 0.5199 | val‑acc 0.904\n",
            "Epoch 13 | train‑loss 0.5124 | val‑acc 0.902\n",
            "Epoch 14 | train‑loss 0.5053 | val‑acc 0.908\n",
            "Epoch 15 | train‑loss 0.4982 | val‑acc 0.913\n",
            "Epoch 16 | train‑loss 0.4957 | val‑acc 0.910\n",
            "Epoch 17 | train‑loss 0.4885 | val‑acc 0.918\n",
            "Epoch 18 | train‑loss 0.4849 | val‑acc 0.922\n",
            "Epoch 19 | train‑loss 0.4789 | val‑acc 0.923\n",
            "Epoch 20 | train‑loss 0.4757 | val‑acc 0.928\n",
            "Epoch 21 | train‑loss 0.4704 | val‑acc 0.930\n",
            "Epoch 22 | train‑loss 0.4703 | val‑acc 0.927\n",
            "Epoch 23 | train‑loss 0.4675 | val‑acc 0.929\n",
            "Epoch 24 | train‑loss 0.4637 | val‑acc 0.931\n",
            "Epoch 25 | train‑loss 0.4615 | val‑acc 0.933\n",
            "                    precision    recall  f1-score   support\n",
            "\n",
            "       Hate Speech       0.94      0.97      0.95      3838\n",
            "Offensive Language       0.95      0.86      0.90      3838\n",
            "           Neither       0.92      0.97      0.94      3838\n",
            "\n",
            "          accuracy                           0.93     11514\n",
            "         macro avg       0.93      0.93      0.93     11514\n",
            "      weighted avg       0.93      0.93      0.93     11514\n",
            "\n"
          ]
        }
      ]
    },
    {
      "cell_type": "code",
      "source": [
        "from transformers import DistilBertTokenizerFast, DistilBertModel\n",
        "import torch, numpy as np\n",
        "from tqdm import tqdm\n",
        "\n",
        "MAX_LEN = 128                           # or 256 if GPU RAM allows\n",
        "device  = torch.device('cuda' if torch.cuda.is_available() else 'cpu')\n",
        "\n",
        "tokenizer = DistilBertTokenizerFast.from_pretrained(\n",
        "    'distilbert-base-uncased',\n",
        "    model_max_length=MAX_LEN,\n",
        "    padding_side='right',\n",
        "    truncation_side='right'\n",
        ")\n",
        "\n",
        "class HateSpeechDataset(Dataset):\n",
        "    def __init__(self, texts, labels, tokenizer, max_len=MAX_LEN):\n",
        "        self.texts  = texts\n",
        "        self.labels = labels\n",
        "        self.tok    = tokenizer\n",
        "        self.max_len = max_len\n",
        "    def __len__(self): return len(self.texts)\n",
        "    def __getitem__(self, idx):\n",
        "        enc = self.tok(\n",
        "            self.texts[idx],\n",
        "            add_special_tokens=True,\n",
        "            max_length=self.max_len,\n",
        "            truncation=True,\n",
        "            padding='max_length',\n",
        "            return_tensors='pt'\n",
        "        )\n",
        "        return {\n",
        "            'input_ids':      enc['input_ids'].squeeze(0),\n",
        "            'attention_mask': enc['attention_mask'].squeeze(0),\n",
        "            'label': torch.tensor(self.labels[idx], dtype=torch.long)\n",
        "        }\n",
        "\n",
        "dataset = HateSpeechDataset(df['tweet'].tolist(),\n",
        "                            df['class'].tolist(),\n",
        "                            tokenizer)\n"
      ],
      "metadata": {
        "id": "k8n2Arp9UXW0"
      },
      "execution_count": null,
      "outputs": []
    },
    {
      "cell_type": "code",
      "source": [
        "bert_encoder = DistilBertModel.from_pretrained('distilbert-base-uncased').to(device)\n",
        "bert_encoder.eval()                 # we won't fine‑tune it\n"
      ],
      "metadata": {
        "colab": {
          "base_uri": "https://localhost:8080/"
        },
        "id": "pQI-ORpQUq_q",
        "outputId": "5f98a30e-187c-4903-b083-8476a14dc834"
      },
      "execution_count": null,
      "outputs": [
        {
          "output_type": "execute_result",
          "data": {
            "text/plain": [
              "DistilBertModel(\n",
              "  (embeddings): Embeddings(\n",
              "    (word_embeddings): Embedding(30522, 768, padding_idx=0)\n",
              "    (position_embeddings): Embedding(512, 768)\n",
              "    (LayerNorm): LayerNorm((768,), eps=1e-12, elementwise_affine=True)\n",
              "    (dropout): Dropout(p=0.1, inplace=False)\n",
              "  )\n",
              "  (transformer): Transformer(\n",
              "    (layer): ModuleList(\n",
              "      (0-5): 6 x TransformerBlock(\n",
              "        (attention): DistilBertSdpaAttention(\n",
              "          (dropout): Dropout(p=0.1, inplace=False)\n",
              "          (q_lin): Linear(in_features=768, out_features=768, bias=True)\n",
              "          (k_lin): Linear(in_features=768, out_features=768, bias=True)\n",
              "          (v_lin): Linear(in_features=768, out_features=768, bias=True)\n",
              "          (out_lin): Linear(in_features=768, out_features=768, bias=True)\n",
              "        )\n",
              "        (sa_layer_norm): LayerNorm((768,), eps=1e-12, elementwise_affine=True)\n",
              "        (ffn): FFN(\n",
              "          (dropout): Dropout(p=0.1, inplace=False)\n",
              "          (lin1): Linear(in_features=768, out_features=3072, bias=True)\n",
              "          (lin2): Linear(in_features=3072, out_features=768, bias=True)\n",
              "          (activation): GELUActivation()\n",
              "        )\n",
              "        (output_layer_norm): LayerNorm((768,), eps=1e-12, elementwise_affine=True)\n",
              "      )\n",
              "    )\n",
              "  )\n",
              ")"
            ]
          },
          "metadata": {},
          "execution_count": 24
        }
      ]
    },
    {
      "cell_type": "code",
      "source": [
        "sentence_embeddings, all_labels = [], []\n",
        "\n",
        "with torch.no_grad():\n",
        "    for batch in tqdm(DataLoader(dataset, batch_size=32)):\n",
        "        input_ids      = batch['input_ids'].to(device)\n",
        "        attention_mask = batch['attention_mask'].to(device)\n",
        "\n",
        "        outputs = bert_encoder(input_ids=input_ids,\n",
        "                               attention_mask=attention_mask)\n",
        "\n",
        "        cls_emb = outputs.last_hidden_state[:, 0, :].cpu().numpy()   # [CLS]\n",
        "        sentence_embeddings.append(cls_emb)\n",
        "        all_labels.extend(batch['label'].numpy())\n",
        "\n",
        "X = np.vstack(sentence_embeddings)          # shape (N_samples, 768)\n",
        "y = np.array(all_labels)\n",
        "\n",
        "print(\"Embeddings shape:\", X.shape)\n"
      ],
      "metadata": {
        "colab": {
          "base_uri": "https://localhost:8080/"
        },
        "id": "xjuSZ9K0VYZo",
        "outputId": "8f6049b1-382a-490e-d99b-2f6e52cdcb46"
      },
      "execution_count": null,
      "outputs": [
        {
          "output_type": "stream",
          "name": "stderr",
          "text": [
            "100%|██████████| 775/775 [01:27<00:00,  8.82it/s]"
          ]
        },
        {
          "output_type": "stream",
          "name": "stdout",
          "text": [
            "Embeddings shape: (24783, 768)\n"
          ]
        },
        {
          "output_type": "stream",
          "name": "stderr",
          "text": [
            "\n"
          ]
        }
      ]
    },
    {
      "cell_type": "code",
      "source": [
        "from imblearn.over_sampling import SMOTE\n",
        "smote = SMOTE(random_state=42)\n",
        "X_resampled, y_resampled = smote.fit_resample(X, y)\n"
      ],
      "metadata": {
        "id": "KUTQTxQ4VcwR"
      },
      "execution_count": null,
      "outputs": []
    },
    {
      "cell_type": "code",
      "source": [
        "from sklearn.linear_model import LogisticRegression\n",
        "from sklearn.model_selection import train_test_split\n",
        "from sklearn.metrics import classification_report\n",
        "\n",
        "X_tr, X_val, y_tr, y_val = train_test_split(\n",
        "        X_resampled, y_resampled, test_size=0.3, random_state=42)\n",
        "\n",
        "clf = LogisticRegression(max_iter=1000)\n",
        "clf.fit(X_tr, y_tr)\n",
        "\n",
        "y_pred = clf.predict(X_val)\n",
        "print(classification_report(y_val, y_pred, target_names=list(label_map.values())))\n"
      ],
      "metadata": {
        "colab": {
          "base_uri": "https://localhost:8080/"
        },
        "id": "rYibiQVEVebE",
        "outputId": "35fe5442-c9e0-4034-8d2b-e780f70265b2"
      },
      "execution_count": null,
      "outputs": [
        {
          "output_type": "stream",
          "name": "stdout",
          "text": [
            "                    precision    recall  f1-score   support\n",
            "\n",
            "       Hate Speech       0.80      0.80      0.80      5742\n",
            "Offensive Language       0.81      0.77      0.79      5733\n",
            "           Neither       0.87      0.90      0.89      5796\n",
            "\n",
            "          accuracy                           0.83     17271\n",
            "         macro avg       0.83      0.83      0.83     17271\n",
            "      weighted avg       0.83      0.83      0.83     17271\n",
            "\n"
          ]
        }
      ]
    },
    {
      "cell_type": "code",
      "source": [
        "import torch.nn as nn, torch.optim as optim\n",
        "from torch.utils.data import TensorDataset, DataLoader\n",
        "\n",
        "mlp_model = nn.Sequential(\n",
        "    nn.Linear(768, 256),\n",
        "    nn.ReLU(),\n",
        "    nn.Dropout(0.3),\n",
        "    nn.Linear(256, 3)\n",
        ").to(device)\n",
        "\n",
        "train_ds = TensorDataset(torch.tensor(X_resampled, dtype=torch.float32),\n",
        "                         torch.tensor(y_resampled, dtype=torch.long))\n",
        "train_loader = DataLoader(train_ds, batch_size=64, shuffle=True)\n",
        "\n",
        "criterion = nn.CrossEntropyLoss(label_smoothing=0.1)   # label smoothing\n",
        "optimizer = optim.AdamW(mlp_model.parameters(), lr=1e-3)\n",
        "\n",
        "for epoch in range(1, 26):\n",
        "    mlp_model.train()\n",
        "    for xb, yb in train_loader:\n",
        "        xb, yb = xb.to(device), yb.to(device)\n",
        "        optimizer.zero_grad()\n",
        "        loss = criterion(mlp_model(xb), yb)\n",
        "        loss.backward()\n",
        "        optimizer.step()\n",
        "    print(f\"epoch {epoch:02d}  loss {loss.item():.4f}\")\n",
        "\n",
        "# Evaluate on the same val split used above\n",
        "mlp_model.eval()\n",
        "with torch.no_grad():\n",
        "    y_pred = torch.argmax(mlp_model(torch.tensor(X_val, dtype=torch.float32).to(device)), 1).cpu().numpy()\n",
        "print(classification_report(y_val, y_pred, target_names=list(label_map.values())))\n"
      ],
      "metadata": {
        "colab": {
          "base_uri": "https://localhost:8080/"
        },
        "id": "2Ftp5fbOVgJA",
        "outputId": "dbea7b9c-3d46-403f-d31e-c4cef335e7ac"
      },
      "execution_count": null,
      "outputs": [
        {
          "output_type": "stream",
          "name": "stdout",
          "text": [
            "epoch 01  loss 0.5431\n",
            "epoch 02  loss 0.6755\n",
            "epoch 03  loss 0.7341\n",
            "epoch 04  loss 0.6421\n",
            "epoch 05  loss 0.5027\n",
            "epoch 06  loss 0.5636\n",
            "epoch 07  loss 0.4976\n",
            "epoch 08  loss 0.5138\n",
            "epoch 09  loss 0.4513\n",
            "epoch 10  loss 0.4320\n",
            "epoch 11  loss 0.5250\n",
            "epoch 12  loss 0.5500\n",
            "epoch 13  loss 0.3698\n",
            "epoch 14  loss 0.3791\n",
            "epoch 15  loss 0.4588\n",
            "epoch 16  loss 0.4731\n",
            "epoch 17  loss 0.5275\n",
            "epoch 18  loss 0.4523\n",
            "epoch 19  loss 0.3837\n",
            "epoch 20  loss 0.3752\n",
            "epoch 21  loss 0.4586\n",
            "epoch 22  loss 0.4258\n",
            "epoch 23  loss 0.4319\n",
            "epoch 24  loss 0.3876\n",
            "epoch 25  loss 0.4976\n",
            "                    precision    recall  f1-score   support\n",
            "\n",
            "       Hate Speech       0.94      1.00      0.97      5742\n",
            "Offensive Language       0.99      0.89      0.94      5733\n",
            "           Neither       0.96      0.99      0.98      5796\n",
            "\n",
            "          accuracy                           0.96     17271\n",
            "         macro avg       0.96      0.96      0.96     17271\n",
            "      weighted avg       0.96      0.96      0.96     17271\n",
            "\n"
          ]
        }
      ]
    },
    {
      "cell_type": "markdown",
      "source": [
        "##ERROR ANALYSIS"
      ],
      "metadata": {
        "id": "pLHGMEV5gcGb"
      }
    },
    {
      "cell_type": "markdown",
      "source": [
        "IMPORT"
      ],
      "metadata": {
        "id": "apSK9ysxgg7i"
      }
    },
    {
      "cell_type": "code",
      "source": [
        "import pandas as pd\n",
        "import numpy as np\n",
        "import torch\n",
        "import torch.nn as nn\n",
        "import torch.optim as optim\n",
        "from torch.utils.data import Dataset, DataLoader, random_split\n",
        "from transformers import DistilBertTokenizer, DistilBertModel, DistilBertConfig\n",
        "from sklearn.metrics import classification_report, confusion_matrix\n",
        "import matplotlib.pyplot as plt\n",
        "import seaborn as sns\n",
        "from tqdm import tqdm\n",
        "import re\n",
        "import emoji\n",
        "import nltk\n",
        "from nltk.corpus import stopwords\n",
        "from nltk.stem import WordNetLemmatizer\n",
        "from imblearn.over_sampling import SMOTE\n",
        "from sklearn.model_selection import train_test_split\n",
        "\n",
        "# Ensure NLTK resources are downloaded\n",
        "try:\n",
        "    nltk.data.find('corpora/stopwords')\n",
        "    nltk.data.find('corpora/wordnet')\n",
        "except LookupError:\n",
        "    nltk.download('stopwords')\n",
        "    nltk.download('wordnet')\n",
        "    nltk.download('omw-1.4')\n",
        "\n",
        "# Constants\n",
        "MAX_LEN = 128\n",
        "BATCH_SIZE = 32\n",
        "EPOCHS = 25\n",
        "LEARNING_RATE = 2e-5\n",
        "DEVICE = torch.device('cuda' if torch.cuda.is_available() else 'cpu')\n",
        "NUM_CLASSES = 3\n",
        "SEED = 42\n",
        "\n",
        "# Set random seeds for reproducibility\n",
        "torch.manual_seed(SEED)\n",
        "np.random.seed(SEED)\n",
        "\n",
        "# Label mapping\n",
        "LABEL_MAP = {\n",
        "    0: \"Hate Speech\",\n",
        "    1: \"Offensive Language\",\n",
        "    2: \"Neither\"\n",
        "}\n"
      ],
      "metadata": {
        "colab": {
          "base_uri": "https://localhost:8080/"
        },
        "id": "G1LUHp5Lgj--",
        "outputId": "94948bbf-ac92-4f20-cf38-e3950cb46619"
      },
      "execution_count": null,
      "outputs": [
        {
          "output_type": "stream",
          "name": "stderr",
          "text": [
            "[nltk_data] Downloading package stopwords to /root/nltk_data...\n",
            "[nltk_data]   Package stopwords is already up-to-date!\n",
            "[nltk_data] Downloading package wordnet to /root/nltk_data...\n",
            "[nltk_data]   Package wordnet is already up-to-date!\n",
            "[nltk_data] Downloading package omw-1.4 to /root/nltk_data...\n",
            "[nltk_data]   Package omw-1.4 is already up-to-date!\n"
          ]
        }
      ]
    },
    {
      "cell_type": "markdown",
      "source": [
        "# 1. IMPROVED PREPROCESSING\n"
      ],
      "metadata": {
        "id": "iZHNM9RqgpEs"
      }
    },
    {
      "cell_type": "code",
      "source": [
        "def improved_clean_text(text, keep_hashtags=True, keep_emojis=True):\n",
        "    \"\"\"\n",
        "    Enhanced preprocessing that preserves more semantic information\n",
        "    \"\"\"\n",
        "    # Convert to lowercase\n",
        "    text = text.lower()\n",
        "\n",
        "    # Handle emojis\n",
        "    if keep_emojis:\n",
        "        # Convert emojis to text descriptions but keep them\n",
        "        text = emoji.demojize(text)\n",
        "    else:\n",
        "        # Remove emojis completely\n",
        "        text = emoji.demojize(text)\n",
        "        text = re.sub(r':\\w+?:', '', text)\n",
        "\n",
        "    # Remove URLs\n",
        "    text = re.sub(r'http\\S+|www\\.\\S+', '', text)\n",
        "\n",
        "    # Process mentions (@username)\n",
        "    text = re.sub(r'@\\w+', '[USER]', text)  # Replace with token instead of removing\n",
        "\n",
        "    # Process hashtags (#topic)\n",
        "    if keep_hashtags:\n",
        "        text = re.sub(r'#(\\w+)', r'\\1', text)  # Keep hashtag content\n",
        "    else:\n",
        "        text = re.sub(r'#\\w+', '', text)\n",
        "\n",
        "    # Remove HTML tags\n",
        "    text = re.sub(r'<.*?>', ' ', text)\n",
        "\n",
        "    # Remove numbers (but keep context)\n",
        "    text = re.sub(r'\\b\\d+\\b', '[NUM]', text)\n",
        "\n",
        "    # Normalize whitespace\n",
        "    text = re.sub(r'\\s+', ' ', text).strip()\n",
        "\n",
        "    # Handle repeated characters (e.g., \"sooooo\" -> \"soo\")\n",
        "    text = re.sub(r'(.)\\1{2,}', r'\\1\\1', text)\n",
        "\n",
        "    # We're not removing stopwords or lemmatizing here to retain more context\n",
        "    return text"
      ],
      "metadata": {
        "id": "QrVMaRjLgw6A"
      },
      "execution_count": null,
      "outputs": []
    },
    {
      "cell_type": "markdown",
      "source": [
        "# 2. ENHANCED DATASET CLASS\n"
      ],
      "metadata": {
        "id": "cHmssVcuhLxx"
      }
    },
    {
      "cell_type": "code",
      "source": [
        "class EnhancedHateSpeechDataset(Dataset):\n",
        "    def __init__(self, texts, labels, tokenizer, max_len=MAX_LEN):\n",
        "        self.texts = texts\n",
        "        self.labels = labels\n",
        "        self.tokenizer = tokenizer\n",
        "        self.max_len = max_len\n",
        "\n",
        "    def __len__(self):\n",
        "        return len(self.texts)\n",
        "\n",
        "    def __getitem__(self, idx):\n",
        "        text = str(self.texts[idx])\n",
        "        label = self.labels[idx]\n",
        "\n",
        "        # Enhanced tokenization with truncation strategy\n",
        "        encoding = self.tokenizer.encode_plus(\n",
        "            text,\n",
        "            add_special_tokens=True,\n",
        "            max_length=self.max_len,\n",
        "            padding='max_length',\n",
        "            truncation=True,\n",
        "            return_attention_mask=True,\n",
        "            return_token_type_ids=False,  # Not needed for DistilBERT\n",
        "            return_tensors='pt'\n",
        "        )\n",
        "\n",
        "        return {\n",
        "            'input_ids': encoding['input_ids'].flatten(),\n",
        "            'attention_mask': encoding['attention_mask'].flatten(),\n",
        "            'label': torch.tensor(label, dtype=torch.long)\n",
        "        }"
      ],
      "metadata": {
        "id": "pV4Z0LGYhMoc"
      },
      "execution_count": null,
      "outputs": []
    },
    {
      "cell_type": "markdown",
      "source": [
        "# 3. IMPROVED MODEL ARCHITECTURE\n"
      ],
      "metadata": {
        "id": "i5lxti9EhPlq"
      }
    },
    {
      "cell_type": "code",
      "source": [
        "class AttentivePooling(nn.Module):\n",
        "    \"\"\"\n",
        "    Attention-based pooling to focus on important tokens\n",
        "    \"\"\"\n",
        "    def __init__(self, hidden_size):\n",
        "        super(AttentivePooling, self).__init__()\n",
        "        self.attention = nn.Sequential(\n",
        "            nn.Linear(hidden_size, hidden_size // 2),\n",
        "            nn.Tanh(),\n",
        "            nn.Linear(hidden_size // 2, 1),\n",
        "            nn.Softmax(dim=1)\n",
        "        )\n",
        "\n",
        "    def forward(self, hidden_states, attention_mask=None):\n",
        "        # Apply attention weights\n",
        "        attention_weights = self.attention(hidden_states)\n",
        "\n",
        "        # Apply attention mask if provided\n",
        "        if attention_mask is not None:\n",
        "            attention_mask = attention_mask.unsqueeze(-1)\n",
        "            attention_weights = attention_weights * attention_mask\n",
        "            # Re-normalize the weights\n",
        "            attention_weights = attention_weights / (attention_weights.sum(dim=1, keepdim=True) + 1e-8)\n",
        "\n",
        "        # Weighted sum\n",
        "        weighted_sum = torch.bmm(attention_weights.transpose(1, 2), hidden_states)\n",
        "        return weighted_sum.squeeze(1)\n",
        "\n",
        "class ImprovedHateSpeechClassifier(nn.Module):\n",
        "    def __init__(self, freeze_bert=False):\n",
        "        super(ImprovedHateSpeechClassifier, self).__init__()\n",
        "        # Load pre-trained model with config\n",
        "        config = DistilBertConfig.from_pretrained('distilbert-base-uncased')\n",
        "        self.bert = DistilBertModel.from_pretrained('distilbert-base-uncased', config=config)\n",
        "        hidden_size = config.hidden_size\n",
        "\n",
        "        # Freeze BERT if specified\n",
        "        if freeze_bert:\n",
        "            for param in self.bert.parameters():\n",
        "                param.requires_grad = False\n",
        "\n",
        "        # Attention pooling\n",
        "        self.attentive_pooling = AttentivePooling(hidden_size)\n",
        "\n",
        "        # Classification layers with regularization\n",
        "        self.classifier = nn.Sequential(\n",
        "            nn.Linear(hidden_size, hidden_size // 2),\n",
        "            nn.LayerNorm(hidden_size // 2),\n",
        "            nn.ReLU(),\n",
        "            nn.Dropout(0.3),\n",
        "            nn.Linear(hidden_size // 2, NUM_CLASSES)\n",
        "        )\n",
        "\n",
        "    def forward(self, input_ids, attention_mask):\n",
        "        # Pass through BERT\n",
        "        outputs = self.bert(input_ids=input_ids, attention_mask=attention_mask)\n",
        "        hidden_states = outputs.last_hidden_state\n",
        "\n",
        "        # Apply attentive pooling instead of just using [CLS]\n",
        "        pooled_output = self.attentive_pooling(hidden_states, attention_mask)\n",
        "\n",
        "        # Classification\n",
        "        logits = self.classifier(pooled_output)\n",
        "        return logits"
      ],
      "metadata": {
        "id": "B0DA7Z9YhSG1"
      },
      "execution_count": null,
      "outputs": []
    },
    {
      "cell_type": "markdown",
      "source": [
        "# 4. IMPROVED TRAINING WITH FOCAL LOSS\n"
      ],
      "metadata": {
        "id": "axJEYS-MhXfR"
      }
    },
    {
      "cell_type": "code",
      "source": [
        "\n",
        "class FocalLoss(nn.Module):\n",
        "    \"\"\"\n",
        "    Focal Loss to handle class imbalance better than standard cross-entropy\n",
        "    \"\"\"\n",
        "    def __init__(self, alpha=None, gamma=2.0, reduction='mean'):\n",
        "        super(FocalLoss, self).__init__()\n",
        "        self.alpha = alpha  # Weight for each class\n",
        "        self.gamma = gamma  # Focusing parameter\n",
        "        self.reduction = reduction\n",
        "        self.ce = nn.CrossEntropyLoss(weight=alpha, reduction='none')\n",
        "\n",
        "    def forward(self, inputs, targets):\n",
        "        ce_loss = self.ce(inputs, targets)\n",
        "        pt = torch.exp(-ce_loss)\n",
        "        focal_loss = ((1 - pt) ** self.gamma) * ce_loss\n",
        "\n",
        "        if self.reduction == 'mean':\n",
        "            return focal_loss.mean()\n",
        "        elif self.reduction == 'sum':\n",
        "            return focal_loss.sum()\n",
        "        else:\n",
        "            return focal_loss\n",
        "\n",
        "def train_epoch(model, dataloader, optimizer, criterion, device):\n",
        "    model.train()\n",
        "    total_loss = 0\n",
        "\n",
        "    progress_bar = tqdm(dataloader, desc=\"Training\")\n",
        "    for batch in progress_bar:\n",
        "        optimizer.zero_grad()\n",
        "\n",
        "        input_ids = batch['input_ids'].to(device)\n",
        "        attention_mask = batch['attention_mask'].to(device)\n",
        "        labels = batch['label'].to(device)\n",
        "\n",
        "        outputs = model(input_ids=input_ids, attention_mask=attention_mask)\n",
        "        loss = criterion(outputs, labels)\n",
        "\n",
        "        loss.backward()\n",
        "        optimizer.step()\n",
        "\n",
        "        total_loss += loss.item()\n",
        "        progress_bar.set_postfix({'loss': loss.item()})\n",
        "\n",
        "    return total_loss / len(dataloader)\n",
        "\n",
        "def evaluate(model, dataloader, criterion, device):\n",
        "    model.eval()\n",
        "    total_loss = 0\n",
        "    all_preds = []\n",
        "    all_labels = []\n",
        "\n",
        "    with torch.no_grad():\n",
        "        for batch in tqdm(dataloader, desc=\"Evaluating\"):\n",
        "            input_ids = batch['input_ids'].to(device)\n",
        "            attention_mask = batch['attention_mask'].to(device)\n",
        "            labels = batch['label'].to(device)\n",
        "\n",
        "            outputs = model(input_ids=input_ids, attention_mask=attention_mask)\n",
        "            loss = criterion(outputs, labels)\n",
        "\n",
        "            total_loss += loss.item()\n",
        "\n",
        "            _, preds = torch.max(outputs, dim=1)\n",
        "            all_preds.extend(preds.cpu().numpy())\n",
        "            all_labels.extend(labels.cpu().numpy())\n",
        "\n",
        "    return total_loss / len(dataloader), all_preds, all_labels\n",
        "\n",
        "def display_confusion_matrix(true_labels, predictions, class_names):\n",
        "    \"\"\"Display confusion matrix with seaborn for better visualization\"\"\"\n",
        "    cm = confusion_matrix(true_labels, predictions)\n",
        "    plt.figure(figsize=(10, 8))\n",
        "    sns.heatmap(cm, annot=True, fmt='d', cmap='Blues', xticklabels=class_names, yticklabels=class_names)\n",
        "    plt.xlabel('Predicted')\n",
        "    plt.ylabel('True')\n",
        "    plt.title('Confusion Matrix')\n",
        "    plt.show()\n",
        "\n",
        "def calculate_class_weights(labels):\n",
        "    \"\"\"Calculate class weights inversely proportional to class frequencies\"\"\"\n",
        "    class_counts = np.bincount(labels)\n",
        "    total_samples = len(labels)\n",
        "    class_weights = total_samples / (len(class_counts) * class_counts)\n",
        "    return torch.tensor(class_weights, dtype=torch.float32)"
      ],
      "metadata": {
        "id": "msCOxYuQhYA4"
      },
      "execution_count": null,
      "outputs": []
    },
    {
      "cell_type": "markdown",
      "source": [
        "# 5. MAIN TRAINING PIPELINE\n"
      ],
      "metadata": {
        "id": "7NC_kgdDhehF"
      }
    },
    {
      "cell_type": "code",
      "source": [
        "def run_training_pipeline(df):\n",
        "    \"\"\"Complete training pipeline with all improvements\"\"\"\n",
        "\n",
        "    # Apply improved preprocessing\n",
        "    print(\"Applying enhanced preprocessing...\")\n",
        "    df['processed_tweet'] = df['tweet'].apply(improved_clean_text)\n",
        "\n",
        "    # Initialize tokenizer\n",
        "    tokenizer = DistilBertTokenizer.from_pretrained('distilbert-base-uncased')\n",
        "\n",
        "    # Create dataset\n",
        "    dataset = EnhancedHateSpeechDataset(\n",
        "        df['processed_tweet'].tolist(),\n",
        "        df['class'].tolist(),\n",
        "        tokenizer\n",
        "    )\n",
        "\n",
        "    # Split dataset\n",
        "    train_size = int(0.7 * len(dataset))\n",
        "    val_size = int(0.15 * len(dataset))\n",
        "    test_size = len(dataset) - train_size - val_size\n",
        "\n",
        "    train_dataset, val_dataset, test_dataset = random_split(\n",
        "        dataset, [train_size, val_size, test_size]\n",
        "    )\n",
        "\n",
        "    # Create data loaders\n",
        "    train_loader = DataLoader(train_dataset, batch_size=BATCH_SIZE, shuffle=True)\n",
        "    val_loader = DataLoader(val_dataset, batch_size=BATCH_SIZE)\n",
        "    test_loader = DataLoader(test_dataset, batch_size=BATCH_SIZE)\n",
        "\n",
        "    # Initialize model\n",
        "    model = ImprovedHateSpeechClassifier(freeze_bert=False).to(DEVICE)\n",
        "\n",
        "    # Calculate class weights for addressing imbalance\n",
        "    class_labels = df['class'].values\n",
        "    class_weights = calculate_class_weights(class_labels).to(DEVICE)\n",
        "\n",
        "    # Initialize criterion and optimizer\n",
        "    criterion = FocalLoss(alpha=class_weights, gamma=2.0)\n",
        "\n",
        "    # Use layer-wise learning rate decay for BERT layers\n",
        "    no_decay = ['bias', 'LayerNorm.weight']\n",
        "    optimizer_grouped_parameters = [\n",
        "        {'params': [p for n, p in model.bert.named_parameters()\n",
        "                   if not any(nd in n for nd in no_decay)],\n",
        "         'weight_decay': 0.01,\n",
        "         'lr': LEARNING_RATE / 10},\n",
        "        {'params': [p for n, p in model.bert.named_parameters()\n",
        "                   if any(nd in n for nd in no_decay)],\n",
        "         'weight_decay': 0.0,\n",
        "         'lr': LEARNING_RATE / 10},\n",
        "        {'params': [p for n, p in model.named_parameters()\n",
        "                   if not n.startswith('bert')],\n",
        "         'weight_decay': 0.01,\n",
        "         'lr': LEARNING_RATE}\n",
        "    ]\n",
        "\n",
        "    optimizer = optim.AdamW(optimizer_grouped_parameters)\n",
        "\n",
        "    # Learning rate scheduler\n",
        "    scheduler = optim.lr_scheduler.ReduceLROnPlateau(\n",
        "        optimizer, mode='min', factor=0.5, patience=2, verbose=True\n",
        "    )\n",
        "\n",
        "    # Training loop\n",
        "    best_val_loss = float('inf')\n",
        "    best_model_state = None\n",
        "\n",
        "    print(f\"Starting training on {DEVICE}...\")\n",
        "    for epoch in range(1, EPOCHS + 1):\n",
        "        print(f\"\\nEpoch {epoch}/{EPOCHS}\")\n",
        "\n",
        "        # Train\n",
        "        train_loss = train_epoch(model, train_loader, optimizer, criterion, DEVICE)\n",
        "\n",
        "        # Validate\n",
        "        val_loss, val_preds, val_labels = evaluate(model, val_loader, criterion, DEVICE)\n",
        "\n",
        "        # Update learning rate\n",
        "        scheduler.step(val_loss)\n",
        "\n",
        "        # Print metrics\n",
        "        val_report = classification_report(\n",
        "            val_labels, val_preds,\n",
        "            target_names=list(LABEL_MAP.values()),\n",
        "            output_dict=True\n",
        "        )\n",
        "\n",
        "        print(f\"Train Loss: {train_loss:.4f}, Val Loss: {val_loss:.4f}\")\n",
        "        print(f\"Val F1 (macro): {val_report['macro avg']['f1-score']:.4f}\")\n",
        "\n",
        "        # Save best model\n",
        "        if val_loss < best_val_loss:\n",
        "            best_val_loss = val_loss\n",
        "            best_model_state = model.state_dict().copy()\n",
        "            print(\"New best model saved!\")\n",
        "\n",
        "    # Load best model for evaluation\n",
        "    model.load_state_dict(best_model_state)\n",
        "\n",
        "    # Final evaluation on test set\n",
        "    test_loss, test_preds, test_labels = evaluate(model, test_loader, criterion, DEVICE)\n",
        "\n",
        "    # Display results\n",
        "    print(\"\\nFinal Evaluation on Test Set:\")\n",
        "    print(classification_report(test_labels, test_preds, target_names=list(LABEL_MAP.values())))\n",
        "\n",
        "    # Display confusion matrix\n",
        "    display_confusion_matrix(test_labels, test_preds, list(LABEL_MAP.values()))\n",
        "\n",
        "    return model, tokenizer"
      ],
      "metadata": {
        "id": "9P7CIwqxhfTp"
      },
      "execution_count": null,
      "outputs": []
    },
    {
      "cell_type": "markdown",
      "source": [
        "# 6. EMBEDDINGS WITH SMOTE (OPTIONAL ALTERNATIVE APPROACH)\n"
      ],
      "metadata": {
        "id": "TPHahoSYhnjB"
      }
    },
    {
      "cell_type": "code",
      "source": [
        "def create_embeddings_with_smote(df, model, tokenizer):\n",
        "    \"\"\"Create embeddings and apply SMOTE for an alternative approach\"\"\"\n",
        "\n",
        "    # Create dataset\n",
        "    dataset = EnhancedHateSpeechDataset(\n",
        "        df['processed_tweet'].tolist(),\n",
        "        df['class'].tolist(),\n",
        "        tokenizer\n",
        "    )\n",
        "\n",
        "    # Create dataloader\n",
        "    dataloader = DataLoader(dataset, batch_size=BATCH_SIZE, shuffle=False)\n",
        "\n",
        "    # Extract embeddings\n",
        "    model.eval()\n",
        "    embeddings = []\n",
        "    labels = []\n",
        "\n",
        "    with torch.no_grad():\n",
        "        for batch in tqdm(dataloader, desc=\"Extracting embeddings\"):\n",
        "            input_ids = batch['input_ids'].to(DEVICE)\n",
        "            attention_mask = batch['attention_mask'].to(DEVICE)\n",
        "\n",
        "            outputs = model.bert(input_ids=input_ids, attention_mask=attention_mask)\n",
        "            hidden_states = outputs.last_hidden_state\n",
        "\n",
        "            # Use attentive pooling for embeddings\n",
        "            pooled_output = model.attentive_pooling(hidden_states, attention_mask).cpu().numpy()\n",
        "\n",
        "            embeddings.append(pooled_output)\n",
        "            labels.extend(batch['label'].numpy())\n",
        "\n",
        "    # Convert to numpy arrays\n",
        "    X = np.vstack(embeddings)\n",
        "    y = np.array(labels)\n",
        "\n",
        "    # Apply SMOTE\n",
        "    smote = SMOTE(random_state=SEED)\n",
        "    X_resampled, y_resampled = smote.fit_resample(X, y)\n",
        "\n",
        "    print(f\"Original shape: {X.shape}, Resampled shape: {X_resampled.shape}\")\n",
        "    print(f\"Original class distribution: {np.bincount(y)}\")\n",
        "    print(f\"Resampled class distribution: {np.bincount(y_resampled)}\")\n",
        "\n",
        "    return X_resampled, y_resampled"
      ],
      "metadata": {
        "id": "iE5BiA0rhoY5"
      },
      "execution_count": null,
      "outputs": []
    },
    {
      "cell_type": "markdown",
      "source": [
        "# 7. ERROR ANALYSIS AND VISUALIZATION\n"
      ],
      "metadata": {
        "id": "0Fb4bnOxhuib"
      }
    },
    {
      "cell_type": "code",
      "source": [
        "def error_analysis(model, dataloader, tokenizer, device=DEVICE):\n",
        "    \"\"\"Perform detailed error analysis\"\"\"\n",
        "    model.eval()\n",
        "    errors = []\n",
        "\n",
        "    with torch.no_grad():\n",
        "        for batch in tqdm(dataloader, desc=\"Analyzing errors\"):\n",
        "            input_ids = batch['input_ids'].to(device)\n",
        "            attention_mask = batch['attention_mask'].to(device)\n",
        "            labels = batch['label'].to(device)\n",
        "\n",
        "            outputs = model(input_ids=input_ids, attention_mask=attention_mask)\n",
        "            _, preds = torch.max(outputs, dim=1)\n",
        "\n",
        "            # Find errors\n",
        "            error_mask = (preds != labels)\n",
        "\n",
        "            if error_mask.sum() > 0:\n",
        "                error_input_ids = input_ids[error_mask].cpu().numpy()\n",
        "                error_true = labels[error_mask].cpu().numpy()\n",
        "                error_pred = preds[error_mask].cpu().numpy()\n",
        "\n",
        "                # Decode tokens\n",
        "                for i in range(len(error_input_ids)):\n",
        "                    tokens = tokenizer.convert_ids_to_tokens(error_input_ids[i])\n",
        "                    text = tokenizer.convert_tokens_to_string([t for t in tokens if t != '[PAD]'])\n",
        "                    errors.append({\n",
        "                        'text': text,\n",
        "                        'true_label': LABEL_MAP[error_true[i]],\n",
        "                        'pred_label': LABEL_MAP[error_pred[i]]\n",
        "                    })\n",
        "\n",
        "    # Convert to DataFrame for analysis\n",
        "    error_df = pd.DataFrame(errors)\n",
        "\n",
        "    # Count error types\n",
        "    error_counts = error_df.groupby(['true_label', 'pred_label']).size().reset_index()\n",
        "    error_counts.columns = ['True Label', 'Predicted Label', 'Count']\n",
        "\n",
        "    # Visualize common error patterns\n",
        "    plt.figure(figsize=(10, 6))\n",
        "    sns.barplot(x='True Label', y='Count', hue='Predicted Label', data=error_counts)\n",
        "    plt.title('Common Error Patterns')\n",
        "    plt.xticks(rotation=45)\n",
        "    plt.tight_layout()\n",
        "    plt.show()\n",
        "\n",
        "    return error_df"
      ],
      "metadata": {
        "id": "PNh_l_PVhxty"
      },
      "execution_count": null,
      "outputs": []
    },
    {
      "cell_type": "code",
      "source": [
        "if __name__ == \"__main__\":\n",
        "    # Load data\n",
        "    df = pd.read_csv('labeled_data.csv')\n",
        "\n",
        "    # Keep only necessary columns\n",
        "    df = df[['tweet', 'class']]\n",
        "\n",
        "    # Print initial class distribution\n",
        "    print(\"Initial class distribution:\")\n",
        "    print(df['class'].value_counts())\n",
        "\n",
        "    # Run training pipeline\n",
        "    model, tokenizer = run_training_pipeline(df)\n",
        "\n",
        "    # Optional: Create embeddings with SMOTE\n",
        "    X_resampled, y_resampled = create_embeddings_with_smote(df, model, tokenizer)\n",
        "\n",
        "    # Optional: Train a simple classifier on embeddings\n",
        "    from sklearn.linear_model import LogisticRegression\n",
        "\n",
        "    X_train, X_test, y_train, y_test = train_test_split(\n",
        "        X_resampled, y_resampled, test_size=0.2, random_state=SEED\n",
        "    )\n",
        "\n",
        "    clf = LogisticRegression(max_iter=1000, class_weight='balanced')\n",
        "    clf.fit(X_train, y_train)\n",
        "\n",
        "    y_pred = clf.predict(X_test)\n",
        "    print(\"\\nEmbedding + LogReg Results:\")\n",
        "    print(classification_report(y_test, y_pred, target_names=list(LABEL_MAP.values())))"
      ],
      "metadata": {
        "id": "_L3BnNALViM8",
        "colab": {
          "base_uri": "https://localhost:8080/",
          "height": 1000
        },
        "outputId": "d808baf1-0c4a-4322-8e48-3d945b85030f"
      },
      "execution_count": null,
      "outputs": [
        {
          "metadata": {
            "tags": null
          },
          "name": "stdout",
          "output_type": "stream",
          "text": [
            "Initial class distribution:\n",
            "class\n",
            "1    19190\n",
            "2     4163\n",
            "0     1430\n",
            "Name: count, dtype: int64\n",
            "Applying enhanced preprocessing...\n",
            "Starting training on cuda...\n",
            "\n",
            "Epoch 1/25\n"
          ]
        },
        {
          "metadata": {
            "tags": null
          },
          "name": "stderr",
          "output_type": "stream",
          "text": [
            "Training: 100%|██████████| 543/543 [02:59<00:00,  3.03it/s, loss=0.116]\n",
            "Evaluating: 100%|██████████| 117/117 [00:13<00:00,  8.94it/s]\n"
          ]
        },
        {
          "metadata": {
            "tags": null
          },
          "name": "stdout",
          "output_type": "stream",
          "text": [
            "Train Loss: 0.4136, Val Loss: 0.2253\n",
            "Val F1 (macro): 0.5917\n",
            "New best model saved!\n",
            "\n",
            "Epoch 2/25\n"
          ]
        },
        {
          "metadata": {
            "tags": null
          },
          "name": "stderr",
          "output_type": "stream",
          "text": [
            "Training: 100%|██████████| 543/543 [03:00<00:00,  3.00it/s, loss=0.024]\n",
            "Evaluating: 100%|██████████| 117/117 [00:12<00:00,  9.14it/s]\n"
          ]
        },
        {
          "metadata": {
            "tags": null
          },
          "name": "stdout",
          "output_type": "stream",
          "text": [
            "Train Loss: 0.2531, Val Loss: 0.1974\n",
            "Val F1 (macro): 0.5814\n",
            "New best model saved!\n",
            "\n",
            "Epoch 3/25\n"
          ]
        },
        {
          "metadata": {
            "tags": null
          },
          "name": "stderr",
          "output_type": "stream",
          "text": [
            "Training: 100%|██████████| 543/543 [02:57<00:00,  3.06it/s, loss=0.386]\n",
            "Evaluating: 100%|██████████| 117/117 [00:12<00:00,  9.26it/s]\n"
          ]
        },
        {
          "metadata": {
            "tags": null
          },
          "name": "stdout",
          "output_type": "stream",
          "text": [
            "Train Loss: 0.2139, Val Loss: 0.1862\n",
            "Val F1 (macro): 0.5718\n",
            "New best model saved!\n",
            "\n",
            "Epoch 4/25\n"
          ]
        },
        {
          "metadata": {
            "tags": null
          },
          "name": "stderr",
          "output_type": "stream",
          "text": [
            "Training: 100%|██████████| 543/543 [02:57<00:00,  3.05it/s, loss=0.0898]\n",
            "Evaluating: 100%|██████████| 117/117 [00:12<00:00,  9.26it/s]\n"
          ]
        },
        {
          "metadata": {
            "tags": null
          },
          "name": "stdout",
          "output_type": "stream",
          "text": [
            "Train Loss: 0.1872, Val Loss: 0.1831\n",
            "Val F1 (macro): 0.6320\n",
            "New best model saved!\n",
            "\n",
            "Epoch 5/25\n"
          ]
        },
        {
          "metadata": {
            "tags": null
          },
          "name": "stderr",
          "output_type": "stream",
          "text": [
            "Training: 100%|██████████| 543/543 [02:57<00:00,  3.05it/s, loss=0.131]\n",
            "Evaluating: 100%|██████████| 117/117 [00:12<00:00,  9.32it/s]\n"
          ]
        },
        {
          "metadata": {
            "tags": null
          },
          "name": "stdout",
          "output_type": "stream",
          "text": [
            "Train Loss: 0.1643, Val Loss: 0.1815\n",
            "Val F1 (macro): 0.5997\n",
            "New best model saved!\n",
            "\n",
            "Epoch 6/25\n"
          ]
        },
        {
          "metadata": {
            "tags": null
          },
          "name": "stderr",
          "output_type": "stream",
          "text": [
            "Training: 100%|██████████| 543/543 [02:57<00:00,  3.06it/s, loss=0.00254]\n",
            "Evaluating: 100%|██████████| 117/117 [00:12<00:00,  9.32it/s]\n"
          ]
        },
        {
          "metadata": {
            "tags": null
          },
          "name": "stdout",
          "output_type": "stream",
          "text": [
            "Train Loss: 0.1481, Val Loss: 0.1859\n",
            "Val F1 (macro): 0.6311\n",
            "\n",
            "Epoch 7/25\n"
          ]
        },
        {
          "metadata": {
            "tags": null
          },
          "name": "stderr",
          "output_type": "stream",
          "text": [
            "Training: 100%|██████████| 543/543 [02:57<00:00,  3.06it/s, loss=0.11]\n",
            "Evaluating: 100%|██████████| 117/117 [00:12<00:00,  9.30it/s]\n"
          ]
        },
        {
          "metadata": {
            "tags": null
          },
          "name": "stdout",
          "output_type": "stream",
          "text": [
            "Train Loss: 0.1291, Val Loss: 0.1995\n",
            "Val F1 (macro): 0.6383\n",
            "\n",
            "Epoch 8/25\n"
          ]
        },
        {
          "metadata": {
            "tags": null
          },
          "name": "stderr",
          "output_type": "stream",
          "text": [
            "Training: 100%|██████████| 543/543 [02:57<00:00,  3.06it/s, loss=0.139]\n",
            "Evaluating: 100%|██████████| 117/117 [00:12<00:00,  9.30it/s]\n"
          ]
        },
        {
          "metadata": {
            "tags": null
          },
          "name": "stdout",
          "output_type": "stream",
          "text": [
            "Train Loss: 0.1171, Val Loss: 0.1962\n",
            "Val F1 (macro): 0.6186\n",
            "\n",
            "Epoch 9/25\n"
          ]
        },
        {
          "metadata": {
            "tags": null
          },
          "name": "stderr",
          "output_type": "stream",
          "text": [
            "Training: 100%|██████████| 543/543 [02:57<00:00,  3.06it/s, loss=0.0119]\n",
            "Evaluating: 100%|██████████| 117/117 [00:12<00:00,  9.29it/s]\n"
          ]
        },
        {
          "metadata": {
            "tags": null
          },
          "name": "stdout",
          "output_type": "stream",
          "text": [
            "Train Loss: 0.1014, Val Loss: 0.2044\n",
            "Val F1 (macro): 0.6531\n",
            "\n",
            "Epoch 10/25\n"
          ]
        },
        {
          "metadata": {
            "tags": null
          },
          "name": "stderr",
          "output_type": "stream",
          "text": [
            "Training: 100%|██████████| 543/543 [02:57<00:00,  3.06it/s, loss=0.00481]\n",
            "Evaluating: 100%|██████████| 117/117 [00:12<00:00,  9.31it/s]\n"
          ]
        },
        {
          "metadata": {
            "tags": null
          },
          "name": "stdout",
          "output_type": "stream",
          "text": [
            "Train Loss: 0.0940, Val Loss: 0.2036\n",
            "Val F1 (macro): 0.6200\n",
            "\n",
            "Epoch 11/25\n"
          ]
        },
        {
          "metadata": {
            "tags": null
          },
          "name": "stderr",
          "output_type": "stream",
          "text": [
            "Training: 100%|██████████| 543/543 [02:57<00:00,  3.06it/s, loss=0.0257]\n",
            "Evaluating: 100%|██████████| 117/117 [00:12<00:00,  9.30it/s]\n"
          ]
        },
        {
          "metadata": {
            "tags": null
          },
          "name": "stdout",
          "output_type": "stream",
          "text": [
            "Train Loss: 0.0895, Val Loss: 0.2115\n",
            "Val F1 (macro): 0.6251\n",
            "\n",
            "Epoch 12/25\n"
          ]
        },
        {
          "metadata": {
            "tags": null
          },
          "name": "stderr",
          "output_type": "stream",
          "text": [
            "Training: 100%|██████████| 543/543 [02:57<00:00,  3.06it/s, loss=0.0507]\n",
            "Evaluating: 100%|██████████| 117/117 [00:12<00:00,  9.30it/s]\n"
          ]
        },
        {
          "metadata": {
            "tags": null
          },
          "name": "stdout",
          "output_type": "stream",
          "text": [
            "Train Loss: 0.0859, Val Loss: 0.2132\n",
            "Val F1 (macro): 0.6423\n",
            "\n",
            "Epoch 13/25\n"
          ]
        },
        {
          "metadata": {
            "tags": null
          },
          "name": "stderr",
          "output_type": "stream",
          "text": [
            "Training: 100%|██████████| 543/543 [02:57<00:00,  3.06it/s, loss=0.0488]\n",
            "Evaluating: 100%|██████████| 117/117 [00:12<00:00,  9.29it/s]\n"
          ]
        },
        {
          "metadata": {
            "tags": null
          },
          "name": "stdout",
          "output_type": "stream",
          "text": [
            "Train Loss: 0.0820, Val Loss: 0.2164\n",
            "Val F1 (macro): 0.6492\n",
            "\n",
            "Epoch 14/25\n"
          ]
        },
        {
          "metadata": {
            "tags": null
          },
          "name": "stderr",
          "output_type": "stream",
          "text": [
            "Training: 100%|██████████| 543/543 [02:57<00:00,  3.05it/s, loss=0.173]\n",
            "Evaluating: 100%|██████████| 117/117 [00:12<00:00,  9.30it/s]\n"
          ]
        },
        {
          "metadata": {
            "tags": null
          },
          "name": "stdout",
          "output_type": "stream",
          "text": [
            "Train Loss: 0.0799, Val Loss: 0.2236\n",
            "Val F1 (macro): 0.6384\n",
            "\n",
            "Epoch 15/25\n"
          ]
        },
        {
          "metadata": {
            "tags": null
          },
          "name": "stderr",
          "output_type": "stream",
          "text": [
            "Training: 100%|██████████| 543/543 [02:57<00:00,  3.06it/s, loss=1.76]\n",
            "Evaluating: 100%|██████████| 117/117 [00:12<00:00,  9.31it/s]\n"
          ]
        },
        {
          "metadata": {
            "tags": null
          },
          "name": "stdout",
          "output_type": "stream",
          "text": [
            "Train Loss: 0.0771, Val Loss: 0.2212\n",
            "Val F1 (macro): 0.6509\n",
            "\n",
            "Epoch 16/25\n"
          ]
        },
        {
          "output_type": "stream",
          "name": "stderr",
          "text": [
            "Training: 100%|██████████| 543/543 [02:57<00:00,  3.06it/s, loss=0.0384]\n",
            "Evaluating: 100%|██████████| 117/117 [00:12<00:00,  9.28it/s]\n"
          ]
        },
        {
          "output_type": "stream",
          "name": "stdout",
          "text": [
            "Train Loss: 0.0737, Val Loss: 0.2251\n",
            "Val F1 (macro): 0.6562\n",
            "\n",
            "Epoch 17/25\n"
          ]
        },
        {
          "output_type": "stream",
          "name": "stderr",
          "text": [
            "Training: 100%|██████████| 543/543 [02:57<00:00,  3.05it/s, loss=0.0186]\n",
            "Evaluating: 100%|██████████| 117/117 [00:12<00:00,  9.26it/s]\n"
          ]
        },
        {
          "output_type": "stream",
          "name": "stdout",
          "text": [
            "Train Loss: 0.0735, Val Loss: 0.2263\n",
            "Val F1 (macro): 0.6588\n",
            "\n",
            "Epoch 18/25\n"
          ]
        },
        {
          "output_type": "stream",
          "name": "stderr",
          "text": [
            "Training: 100%|██████████| 543/543 [02:57<00:00,  3.06it/s, loss=0.148]\n",
            "Evaluating: 100%|██████████| 117/117 [00:12<00:00,  9.35it/s]\n"
          ]
        },
        {
          "output_type": "stream",
          "name": "stdout",
          "text": [
            "Train Loss: 0.0720, Val Loss: 0.2272\n",
            "Val F1 (macro): 0.6577\n",
            "\n",
            "Epoch 19/25\n"
          ]
        },
        {
          "output_type": "stream",
          "name": "stderr",
          "text": [
            "Training: 100%|██████████| 543/543 [02:57<00:00,  3.05it/s, loss=0.189]\n",
            "Evaluating: 100%|██████████| 117/117 [00:12<00:00,  9.34it/s]\n"
          ]
        },
        {
          "output_type": "stream",
          "name": "stdout",
          "text": [
            "Train Loss: 0.0712, Val Loss: 0.2276\n",
            "Val F1 (macro): 0.6560\n",
            "\n",
            "Epoch 20/25\n"
          ]
        },
        {
          "output_type": "stream",
          "name": "stderr",
          "text": [
            "Training: 100%|██████████| 543/543 [02:57<00:00,  3.06it/s, loss=0.0615]\n",
            "Evaluating: 100%|██████████| 117/117 [00:12<00:00,  9.27it/s]\n"
          ]
        },
        {
          "output_type": "stream",
          "name": "stdout",
          "text": [
            "Train Loss: 0.0727, Val Loss: 0.2272\n",
            "Val F1 (macro): 0.6603\n",
            "\n",
            "Epoch 21/25\n"
          ]
        },
        {
          "output_type": "stream",
          "name": "stderr",
          "text": [
            "Training: 100%|██████████| 543/543 [02:58<00:00,  3.05it/s, loss=0.0111]\n",
            "Evaluating: 100%|██████████| 117/117 [00:12<00:00,  9.16it/s]\n"
          ]
        },
        {
          "output_type": "stream",
          "name": "stdout",
          "text": [
            "Train Loss: 0.0710, Val Loss: 0.2268\n",
            "Val F1 (macro): 0.6587\n",
            "\n",
            "Epoch 22/25\n"
          ]
        },
        {
          "output_type": "stream",
          "name": "stderr",
          "text": [
            "Training: 100%|██████████| 543/543 [02:57<00:00,  3.05it/s, loss=0.499]\n",
            "Evaluating: 100%|██████████| 117/117 [00:12<00:00,  9.31it/s]\n"
          ]
        },
        {
          "output_type": "stream",
          "name": "stdout",
          "text": [
            "Train Loss: 0.0704, Val Loss: 0.2278\n",
            "Val F1 (macro): 0.6602\n",
            "\n",
            "Epoch 23/25\n"
          ]
        },
        {
          "output_type": "stream",
          "name": "stderr",
          "text": [
            "Training: 100%|██████████| 543/543 [02:57<00:00,  3.05it/s, loss=0.00911]\n",
            "Evaluating: 100%|██████████| 117/117 [00:12<00:00,  9.30it/s]\n"
          ]
        },
        {
          "output_type": "stream",
          "name": "stdout",
          "text": [
            "Train Loss: 0.0703, Val Loss: 0.2279\n",
            "Val F1 (macro): 0.6604\n",
            "\n",
            "Epoch 24/25\n"
          ]
        },
        {
          "output_type": "stream",
          "name": "stderr",
          "text": [
            "Training: 100%|██████████| 543/543 [02:57<00:00,  3.05it/s, loss=0.000379]\n",
            "Evaluating: 100%|██████████| 117/117 [00:12<00:00,  9.31it/s]\n"
          ]
        },
        {
          "output_type": "stream",
          "name": "stdout",
          "text": [
            "Train Loss: 0.0708, Val Loss: 0.2294\n",
            "Val F1 (macro): 0.6614\n",
            "\n",
            "Epoch 25/25\n"
          ]
        },
        {
          "output_type": "stream",
          "name": "stderr",
          "text": [
            "Training: 100%|██████████| 543/543 [02:57<00:00,  3.05it/s, loss=0.00205]\n",
            "Evaluating: 100%|██████████| 117/117 [00:12<00:00,  9.30it/s]\n"
          ]
        },
        {
          "output_type": "stream",
          "name": "stdout",
          "text": [
            "Train Loss: 0.0691, Val Loss: 0.2293\n",
            "Val F1 (macro): 0.6594\n"
          ]
        },
        {
          "output_type": "stream",
          "name": "stderr",
          "text": [
            "Evaluating: 100%|██████████| 117/117 [00:12<00:00,  9.30it/s]\n"
          ]
        },
        {
          "output_type": "stream",
          "name": "stdout",
          "text": [
            "\n",
            "Final Evaluation on Test Set:\n",
            "                    precision    recall  f1-score   support\n",
            "\n",
            "       Hate Speech       0.18      0.82      0.29       205\n",
            "Offensive Language       0.99      0.69      0.81      2872\n",
            "           Neither       0.79      0.95      0.86       641\n",
            "\n",
            "          accuracy                           0.74      3718\n",
            "         macro avg       0.65      0.82      0.66      3718\n",
            "      weighted avg       0.91      0.74      0.79      3718\n",
            "\n"
          ]
        },
        {
          "output_type": "display_data",
          "data": {
            "text/plain": [
              "<Figure size 1000x800 with 2 Axes>"
            ],
            "image/png": "[encoded data removed]"
          },
          "metadata": {}
        },
        {
          "output_type": "stream",
          "name": "stderr",
          "text": [
            "Extracting embeddings: 100%|██████████| 775/775 [01:23<00:00,  9.24it/s]\n"
          ]
        },
        {
          "output_type": "stream",
          "name": "stdout",
          "text": [
            "Original shape: (24783, 768), Resampled shape: (57570, 768)\n",
            "Original class distribution: [ 1430 19190  4163]\n",
            "Resampled class distribution: [19190 19190 19190]\n",
            "\n",
            "Embedding + LogReg Results:\n",
            "                    precision    recall  f1-score   support\n",
            "\n",
            "       Hate Speech       0.90      0.95      0.92      3849\n",
            "Offensive Language       0.94      0.86      0.90      3794\n",
            "           Neither       0.96      0.99      0.97      3871\n",
            "\n",
            "          accuracy                           0.93     11514\n",
            "         macro avg       0.93      0.93      0.93     11514\n",
            "      weighted avg       0.93      0.93      0.93     11514\n",
            "\n"
          ]
        }
      ]
    }
  ]
}